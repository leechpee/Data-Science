{
 "cells": [
  {
   "cell_type": "markdown",
   "metadata": {},
   "source": [
    "## 一、概览"
   ]
  },
  {
   "cell_type": "markdown",
   "metadata": {},
   "source": [
    "数据来源：广州链家网二手房交易记录（2012年5月3日至2018年6月12日）；\n",
    "\n",
    "数据获取方式：基于R语言rvest包的网络爬虫；\n",
    "\n",
    "数据存储方式：csv文件；\n",
    "\n",
    "数据量：二手房交易记录23018条 ；\n",
    "\n",
    "分析、处理工具：R语言；\n",
    "\n",
    "处理、清洗方法：格式转换、异常值剔除等；\n",
    "\n",
    "绘图工具：R语言。"
   ]
  },
  {
   "cell_type": "markdown",
   "metadata": {},
   "source": [
    "## 二、数据获取"
   ]
  },
  {
   "cell_type": "markdown",
   "metadata": {},
   "source": [
    "### （一）获取二级区域访问地址列表\n",
    "\n",
    "链家广州二手房交易记录的访问地址为:[https://gz.lianjia.com/chengjiao/](https://gz.lianjia.com/chengjiao/)。可以看到，有23018套房屋交易记录（截止到**2018年6月12日**）。![chengjiao](mywork/images/chengjiao.png)\n",
    "\n",
    "每一页显示30条交易记录，访问的链接地址直接在访问地址后面添加后缀/pg + （页码）：![url_chengjiao](mywork/images/url_chengjiao.png)\n",
    "\n",
    "但是，链家仅提供前100页可访问记录，每页显示30条记录。因此，无法获取全部交易记录。![pages_chengjiao.png](mywork/images/pages_chengjiao.png)。\n",
    "\n",
    "我们发现，页面提供按一级区域（如天河、越秀、荔湾等）和二级区域（如白云山风景区、岑村、车陂长兴、东圃等）分别进行查询，且二级区域一般交易记录不超过100页，因此考虑使用二级区域分别查询汇总，来获取全部交易数据。![region.png](mywork/images/region.png)\n",
    "\n",
    "接下来，可以结合rvest包和CSS选择器来进行二级区域链接获取。R代码如下：\n"
   ]
  },
  {
   "cell_type": "code",
   "execution_count": 1,
   "metadata": {},
   "outputs": [
    {
     "name": "stderr",
     "output_type": "stream",
     "text": [
      "Loading required package: xml2\n"
     ]
    }
   ],
   "source": [
    "# 导入相关爬虫包\n",
    "library(rvest)\n",
    "library(curl)\n",
    "\n",
    "urlbase <- 'https://gz.lianjia.com/'\n",
    "url0 <- paste(urlbase,'/chengjiao/',sep=\"\")\n",
    "web <- read_html(url0)\n",
    "\n",
    "#一级区域\n",
    "html1 <- web %>% html_nodes(\".m-filter .position dl:last-of-type [data-role='ershoufang'] div:first-of-type a\")\n",
    "list1 <- html1 %>% html_attr(\"href\")\n",
    "district1 <- html1 %>% html_text()\n",
    "\n",
    "url1 <- paste(urlbase, list1, sep=\"\")\n",
    "url2 <- NULL\n",
    "district2 <- NULL\n",
    "\n",
    "#二级区域\n",
    "for(i in 1:length(url1)) {\n",
    "    web <- read_html(url1[i])\n",
    "    htmltemp <- web %>% html_nodes(\".m-filter .position dl:last-of-type [data-role='ershoufang'] div:last-of-type a\")\n",
    "    listtemp <- htmltemp %>% html_attr(\"href\")\n",
    "    districttemp <- htmltemp %>% html_text()\n",
    "    districttemp <- paste(district1[i], districttemp, sep=\"/\")\n",
    "    district2 <- c(district2, districttemp)\n",
    "    urltemp <- paste(urlbase, listtemp, sep=\"\")\n",
    "    url2 <- c(url2, urltemp)\n",
    "}"
   ]
  },
  {
   "cell_type": "code",
   "execution_count": 2,
   "metadata": {},
   "outputs": [
    {
     "data": {
      "text/html": [
       "<ol class=list-inline>\n",
       "\t<li>'https://gz.lianjia.com//chengjiao/baiyunshanfengjingqu/'</li>\n",
       "\t<li>'https://gz.lianjia.com//chengjiao/cencun/'</li>\n",
       "\t<li>'https://gz.lianjia.com//chengjiao/chebei/'</li>\n",
       "\t<li>'https://gz.lianjia.com//chengjiao/changxing1/'</li>\n",
       "\t<li>'https://gz.lianjia.com//chengjiao/dongpu/'</li>\n",
       "</ol>\n"
      ],
      "text/latex": [
       "\\begin{enumerate*}\n",
       "\\item 'https://gz.lianjia.com//chengjiao/baiyunshanfengjingqu/'\n",
       "\\item 'https://gz.lianjia.com//chengjiao/cencun/'\n",
       "\\item 'https://gz.lianjia.com//chengjiao/chebei/'\n",
       "\\item 'https://gz.lianjia.com//chengjiao/changxing1/'\n",
       "\\item 'https://gz.lianjia.com//chengjiao/dongpu/'\n",
       "\\end{enumerate*}\n"
      ],
      "text/markdown": [
       "1. 'https://gz.lianjia.com//chengjiao/baiyunshanfengjingqu/'\n",
       "2. 'https://gz.lianjia.com//chengjiao/cencun/'\n",
       "3. 'https://gz.lianjia.com//chengjiao/chebei/'\n",
       "4. 'https://gz.lianjia.com//chengjiao/changxing1/'\n",
       "5. 'https://gz.lianjia.com//chengjiao/dongpu/'\n",
       "\n",
       "\n"
      ],
      "text/plain": [
       "[1] \"https://gz.lianjia.com//chengjiao/baiyunshanfengjingqu/\"\n",
       "[2] \"https://gz.lianjia.com//chengjiao/cencun/\"              \n",
       "[3] \"https://gz.lianjia.com//chengjiao/chebei/\"              \n",
       "[4] \"https://gz.lianjia.com//chengjiao/changxing1/\"          \n",
       "[5] \"https://gz.lianjia.com//chengjiao/dongpu/\"              "
      ]
     },
     "metadata": {},
     "output_type": "display_data"
    },
    {
     "data": {
      "text/html": [
       "<ol class=list-inline>\n",
       "\t<li>'天河/白云山风景区'</li>\n",
       "\t<li>'天河/岑村'</li>\n",
       "\t<li>'天河/车陂'</li>\n",
       "\t<li>'天河/长兴'</li>\n",
       "\t<li>'天河/东圃'</li>\n",
       "</ol>\n"
      ],
      "text/latex": [
       "\\begin{enumerate*}\n",
       "\\item '天河/白云山风景区'\n",
       "\\item '天河/岑村'\n",
       "\\item '天河/车陂'\n",
       "\\item '天河/长兴'\n",
       "\\item '天河/东圃'\n",
       "\\end{enumerate*}\n"
      ],
      "text/markdown": [
       "1. '天河/白云山风景区'\n",
       "2. '天河/岑村'\n",
       "3. '天河/车陂'\n",
       "4. '天河/长兴'\n",
       "5. '天河/东圃'\n",
       "\n",
       "\n"
      ],
      "text/plain": [
       "[1] \"天河/白云山风景区\" \"天河/岑村\"         \"天河/车陂\"        \n",
       "[4] \"天河/长兴\"         \"天河/东圃\"        "
      ]
     },
     "metadata": {},
     "output_type": "display_data"
    }
   ],
   "source": [
    "url2[1:5]\n",
    "district2[1:5]"
   ]
  },
  {
   "cell_type": "markdown",
   "metadata": {},
   "source": [
    "### （二） 获取交易记录\n",
    "\n",
    "首先，需要获取该二级区域交易总数，然后记录总的页数，拼接访问地址。比如，天河/天河公园总共有319条交易记录，则 $\\lceil 319/30 \\rceil = 11$（向上取整），因此需要访问$pg1 \\sim pg11$。\n",
    "\n",
    "接下来，需要分析每页的交易记录，可以爬取的内容，如下：\n",
    "\n",
    "- 区域（district）：天河/天河公园\n",
    "\n",
    "- 标题（title）：佳福阁 2室2厅 89平米\n",
    "\n",
    "- 交易时间（deal_date）：2018.04.17\n",
    "\n",
    "- 房屋信息（house_Info）：南 | 其他 | 无电梯\n",
    "\n",
    "- 房屋成交价格（total_price）：306万\n",
    "\n",
    "- 房屋楼层信息（position_Info）：低楼层(共9层) 1998年建塔楼\n",
    "\n",
    "- 房屋单价（unit_price）：34383元/平\n",
    "\n",
    "- 房屋位置信息（deal_HouseInfo）：房屋满五年 距5号线科韵路638米\n",
    "\n",
    "- 挂牌价（quoted_price）：挂牌320万\n",
    "\n",
    "- 交易周期（deal_cycle）：成交周期234天\n",
    "\n",
    "- 页面地址（href）：https://gz.lianjia.com/chengjiao/GZ0003010863.html\n",
    "\n",
    "R代码如下：\n",
    "\n",
    "```R\n",
    "#开始逐个二级区域检索\n",
    "total <- NULL\n",
    "lianjia <- NULL\n",
    "print(length(url2))\n",
    "for(i in 1:length(url2)) {\n",
    "    print(i)\n",
    "    web <- read_html(url2[i])\n",
    "    totaltemp <- web %>% html_nodes(\".leftContent .total span\") %>% html_text()\n",
    "    totaltemp <- as.numeric(totaltemp)\n",
    "    #各二级区域总数\n",
    "    total <- c(total, totaltemp)\n",
    "    #该二级区域页码\n",
    "    num <- ceiling(totaltemp/30)\n",
    "    j <- 0\n",
    "    try <- 0\n",
    "    while(j < num) {\n",
    "        print(j)\n",
    "        j = j + 1\n",
    "        Sys.sleep(5)\n",
    "        url <- paste(url2[i], \"pg\", j, sep=\"\")\n",
    "        #web <- read_html(url)\n",
    "        web <- read_html(curl(url, handle = curl::new_handle(\"useragent\" = \"Mozilla/5.0\")))\n",
    "        list <- web %>% html_nodes('.content .leftContent .listContent li')\n",
    "        href <- list %>% html_nodes(\".img\") %>% html_attr(\"href\")\n",
    "        info <- list %>% html_nodes(\".info\")\n",
    "        title <- info %>% html_nodes(\".title\") %>% html_text()\n",
    "        house_Info <- info %>% html_nodes(\".address .houseInfo\") %>% html_text()\n",
    "        deal_date <- info %>% html_nodes(\".address .dealDate\") %>% html_text()\n",
    "        total_price <- info %>% html_nodes(\".address .totalPrice\") %>% html_text()\n",
    "        position_Info <- info %>% html_nodes(\".flood .positionInfo\") %>% html_text()\n",
    "        unit_price <- info %>% html_nodes(\".flood .unitPrice\") %>% html_text()\n",
    "        deal_HouseInfo <- info %>% html_nodes(\".dealHouseInfo .dealHouseTxt\") %>% html_text()\n",
    "        deal_HouseInfoPro <- NULL\n",
    "        \n",
    "        l = 0\n",
    "        for(k in 1:length(list)) {\n",
    "            if(length(info[k] %>% html_nodes(\".dealHouseInfo\")) == 0){\n",
    "                deal_HouseInfoPro <- c(deal_HouseInfoPro , \"\")\n",
    "            } else {\n",
    "                l = l + 1\n",
    "                deal_HouseInfoPro <- c(deal_HouseInfoPro , deal_HouseInfo[k])\n",
    "            }\n",
    "        }\n",
    "        quoted_price <- info %>% html_nodes(\".dealCycleeInfo .dealCycleTxt span:first-of-type\") %>% html_text()\n",
    "        deal_cycle<- info %>% html_nodes(\".dealCycleeInfo .dealCycleTxt span:last-of-type\") %>% html_text()\n",
    "        if(length(title) != 0){\n",
    "            try <- 0\n",
    "            res <- data.frame(district2[i], title, deal_date, house_Info, total_price, \n",
    "            position_Info, unit_price, deal_HouseInfoPro , quoted_price, deal_cycle, href, totaltemp)\n",
    "            rbind(lianjia, res)\n",
    "            if(i==1 && j == 1){\n",
    "                write.table(res,file=\"gz_esf_deal.csv\",sep=\",\",quote=F,row.names=F,col.names=T)\n",
    "            } else {\n",
    "                write.table(res,file=\"gz_esf_deal.csv\",sep=\",\",append=T,quote=F,row.names=F,col.names=F)\n",
    "            }\n",
    "        } else {\n",
    "            if(try < 5){\n",
    "                # 获取数据失败，重试一次\n",
    "                j <- j - 1\n",
    "                try <- try + 1\n",
    "                cat(\"等待重连，第\",try,\"次... ...\\n\")\n",
    "                Sys.sleep(20)\n",
    "            } else {\n",
    "                cat(\"已经重连\",try,\"次，退出！\\n\")\n",
    "                break\n",
    "            }\n",
    "        }\n",
    "    }\n",
    "    if(try >= 5){\n",
    "        break\n",
    "    }\n",
    "}\n",
    "```"
   ]
  },
  {
   "cell_type": "code",
   "execution_count": 3,
   "metadata": {},
   "outputs": [
    {
     "ename": "ERROR",
     "evalue": "Error in `[.data.frame`(data, , 1:12): undefined columns selected\n",
     "output_type": "error",
     "traceback": [
      "Error in `[.data.frame`(data, , 1:12): undefined columns selected\nTraceback:\n",
      "1. head(data[, 1:12])",
      "2. data[, 1:12]",
      "3. `[.data.frame`(data, , 1:12)",
      "4. stop(\"undefined columns selected\")"
     ]
    }
   ],
   "source": [
    "head(data[, 1:12])"
   ]
  },
  {
   "cell_type": "markdown",
   "metadata": {},
   "source": [
    "### （三）交易数据清洗和数据切分\n",
    "\n",
    "这块的工作主要是将不符合要求的记录数据补齐或是剔除，对符合要求的记录进行格式转换、数据切分和重新整合。例如：\n",
    "- 交易时间字符串转换为时间格式\n",
    "```R\n",
    "#时间格式转换\n",
    "data$deal_date <- as.Date(data[,3], \"%Y.%m.%d\")\n",
    "```\n",
    "- 将标题切分为小区、户型和面积三块\n",
    "```R\n",
    "title <- unlist(strsplit(data[,2],split=\" \"))\n",
    "```\n",
    "- 针对房屋信息，有几种格式：\n",
    "    + 南 北 | 精装<U+00A0>| 无电梯\n",
    "    + 南 | 有电梯，③南 北 | 其他\n",
    "   \n",
    "  我们需要切分，并且根据切分后数目补齐（填入NA）。\n",
    " \n",
    "数据清洗、转换、切分和整合的R代码如下："
   ]
  },
  {
   "cell_type": "markdown",
   "metadata": {},
   "source": []
  },
  {
   "cell_type": "code",
   "execution_count": null,
   "metadata": {},
   "outputs": [],
   "source": [
    "# 载入字符串处理包\n",
    "library(stringr)\n",
    "\n",
    "# 读取csv数据\n",
    "data <- read.table(\"gz_esf_deal.csv\", header = T, colClasses = c(\"character\"), sep=\",\")\n",
    "\n",
    "# 数据总量\n",
    "totalnum <- length(data[, 1])\n",
    "\n",
    "# 规范命名\n",
    "names(data)[1] = \"district\"\n",
    "\n",
    "# 时间格式转换\n",
    "data$deal_date <- as.Date(data[, 3], \"%Y.%m.%d\")\n",
    "\n",
    "# 标题切分出小区、户型、面积\n",
    "title <- unlist(strsplit(data[, 2], split = \" \"))\n",
    "num <- seq(from = 1, to = totalnum*3, by = 3)\n",
    "data$block <- title[num]\n",
    "data$block <- factor(data$block)\n",
    "data$layout <- title[num + 1]\n",
    "data$layout <- factor(data$layout)\n",
    "area <- title[num + 2]\n",
    "area <- sub(pattern = \"平米\", replacement = \"\", area)\n",
    "\n",
    "# 字符串转换为数值型\n",
    "data$area <- as.numeric(area)\n",
    "data$house_Info <- str_trim(sub(pattern = \"<U\\\\+00A0>\", replacement = \"\", data[, 4]))\n",
    "orientation <- NULL\n",
    "decoration <- NULL\n",
    "elevator <- NULL\n",
    "\n",
    "# houseInfo包含朝向、 装修和电梯中的一种或几种，需逐个判断分解\n",
    "for(i in 1:totalnum) {\n",
    "\tinfo <- data$house_Info[i]\n",
    "\tinfolist <- str_trim(unlist(strsplit(data$house_Info[i], split=\"\\\\|\")))\n",
    "\torientation <- c(orientation, infolist[1])\n",
    "\n",
    "\tif(length(infolist) >= 2) {\n",
    "\t\tdecoration <- c(decoration, infolist[2])\n",
    "\t} else {\n",
    "\t\tdecoration <- c(decoration, NA)\n",
    "\t}\n",
    "\n",
    "\tif(length(infolist) >= 3) {\n",
    "\t\televator <- c(elevator, infolist[3])\n",
    "\t} else {\n",
    "\t\televator <- c(elevator, NA)\n",
    "\t}  \n",
    "}\n",
    "\n",
    "# 分解部分添加到数据集并标识为因子\n",
    "data$orientation <- orientation \n",
    "data$orientation <- factor(data$orientation)\n",
    "data$decoration <- decoration\n",
    "data$decoration <- factor(data$decoration)\n",
    "data$elevator <- elevator\n",
    "data$elevator <- factor(data$elevator)\n",
    "\n",
    "# positionInfo包含楼层、楼高、年代、楼型中的一种或几种，需逐个判断分解\n",
    "stair <- NULL\n",
    "loft <- NULL\n",
    "years <- NULL\n",
    "type <- NULL\n",
    "for(i in 1:totalnum) {\n",
    "\tinfo <- data$position_Info[i]\n",
    "\tinfolist <- str_trim(unlist(strsplit(data$position_Info[i], split=\" \")))\n",
    "\tloftlist <- str_trim(unlist(strsplit(infolist[1], split=\"\\\\(\"))) \n",
    "\tstair <- c(stair, loftlist[1])\n",
    "\tloft <- c(loft, sub(pattern = \"共(.*)层\\\\)\", replacement = \"\\\\1\", loftlist[2]))\n",
    "\n",
    "\tif(length(infolist) >= 2) {\n",
    "\t\tif(str_detect(infolist[2], \"年建\")) {\n",
    "\t\t\ttypelist <- str_trim(unlist(strsplit(infolist[2], split=\"年建\")))\n",
    "\t\t\tyears <- c(years, typelist[1])\n",
    "\t\t\t\n",
    "\t\t\tif(length(typelist) >= 2) {\n",
    "\t\t\t\ttype <- c(type, typelist[2])\n",
    "\t\t\t} else {\n",
    "\t\t\t\ttype <- c(type, NA)\n",
    "\t\t\t}\n",
    "\t\t} else {\n",
    "\t\t\tyears <- c(years, NA)\n",
    "\t\t\ttype <- c(type, infolist[2])\n",
    "\t\t}\n",
    "\t} else {\n",
    "\t\tyears <- c(years, NA)\n",
    "\t\ttype <- c(type, NA)\n",
    "\t}  \n",
    "}\n",
    "\n",
    "# 添加到数据集并标识为因子\n",
    "data$stair <- stair \n",
    "data$stair <- factor(data$stair)\n",
    "data$loft <- loft\n",
    "data$loft <- factor(data$loft)\n",
    "data$years <- years\n",
    "data$years <- factor(data$years)\n",
    "data$type <- type\n",
    "data$type <- factor(data$type)\n",
    "\n",
    "# dealHouseInfoPro包含交易、地铁中的零种到两种，需逐个判断分解\n",
    "deal <- NULL\n",
    "metro <- NULL\n",
    "data$deal_HouseInfoPro[is.na(data$deal_HouseInfoPro)] <- 0\n",
    "for(i in 1:totalnum) {\n",
    "\tinfo <- data$deal_HouseInfoPro[i]\n",
    "\n",
    "\tif(str_detect(info, \"房屋满\")) {\n",
    "\t\tdeal <- c(deal, sub(pattern = \"房屋(满.*年).*\", replacement = \"\\\\1\", info))\n",
    "\t} else {\n",
    "\t\tdeal <- c(deal, NA)\n",
    "\t}\n",
    "\n",
    "\tif(str_detect(info, \"距\")){\n",
    "\t\tmetro <- c(metro, sub(pattern = \".*距(.*)\", replacement = \"\\\\1\", info))\n",
    "\t} else {\n",
    "\t\tmetro <- c(metro, NA)\n",
    "\t}\t\n",
    "}\n",
    "\n",
    "# 添加到数据集并标识为因子\n",
    "data$deal <- deal \n",
    "data$deal <- factor(data$deal)\n",
    "data$metro <- metro\n",
    "data$metro <- factor(data$metro)\n",
    "\n",
    "# 成交总价转为数值型，便于后续计算\n",
    "total_price <- sub(pattern = \"万\", replacement = \"\", data[, 5])\n",
    "data$total_price <- as.numeric(total_price)\n",
    "unit_price <- sub(pattern = \"元/平\", replacement = \"\", data[, 7])\n",
    "data$unit_price <- as.numeric(unit_price)\n",
    "quoted_price <- sub(pattern = \"挂牌(.*)万\", replacement = \"\\\\1\", data[, 9])\n",
    "data$quoted_price <- as.numeric(quoted_price)\n",
    "deal_cycle <- sub(pattern = \"成交周期(.*)天\", replacement = \"\\\\1\", data[, 10])\n",
    "data$deal_cycle <- as.numeric(deal_cycle)\n",
    "save(data, file='gz_esf_deal_cleaned.Rdata')\n",
    "\n",
    "#清洗和切分完成的数据保存\n",
    "write.table(data, file = \"gz_esf_deal_cleaned.csv\", sep = \",\", quote = F, row.names = F, col.names = T)"
   ]
  },
  {
   "cell_type": "code",
   "execution_count": null,
   "metadata": {},
   "outputs": [],
   "source": [
    "head(data[, 13:24])"
   ]
  },
  {
   "cell_type": "code",
   "execution_count": null,
   "metadata": {},
   "outputs": [],
   "source": [
    "str(data)"
   ]
  },
  {
   "cell_type": "markdown",
   "metadata": {},
   "source": [
    "### （四）数据清理结果\n",
    "\n",
    "数据总和：25562条\n"
   ]
  },
  {
   "cell_type": "markdown",
   "metadata": {},
   "source": [
    "## 三、数据分析"
   ]
  },
  {
   "cell_type": "code",
   "execution_count": null,
   "metadata": {},
   "outputs": [],
   "source": [
    "max(data$deal_date)"
   ]
  },
  {
   "cell_type": "code",
   "execution_count": null,
   "metadata": {
    "scrolled": true
   },
   "outputs": [],
   "source": [
    "load('gz_esf_deal_cleaned.Rdata') \n",
    "\n",
    "totalnum <- length(data[, 1])\n",
    "#1、链家每日销售量\n",
    "day_sale_amount <- with(data, table(deal_date))\n",
    "barplot(day_sale_amount, xlab=\"交易时间\", ylab=\"交易量(套)\", main=\"链家广州交易量统计(2012.5.3-2017.7.6)\")"
   ]
  },
  {
   "cell_type": "code",
   "execution_count": null,
   "metadata": {},
   "outputs": [],
   "source": [
    "library(plotrix)"
   ]
  },
  {
   "cell_type": "code",
   "execution_count": null,
   "metadata": {},
   "outputs": [],
   "source": [
    "#2、一级区域成交量排行和销售均价\n",
    "zone <- unlist(strsplit(data$district, split=\"\\\\/\"))\n",
    "num <- seq(from=1, to=totalnum*2, by=2)\n",
    "data$zone <- zone[num]\n",
    "data$zone <- factor(data$zone)\n",
    "zone_sales <- with(data, table(zone))\n",
    "zone_sales <- sort(zone_sales, decreasing=TRUE)\n",
    "\n",
    "library(plotrix)\n",
    "\n",
    "# 计算各区域均价\n",
    "temp_prices <- aggregate(data$unit_price, by=list(zone=data$zone), mean)\n",
    "zone_unit_prices <- NULL\n",
    "zone_unit_prices[t(temp_prices[\"zone\"])] <- t(temp_prices[\"x\"])\n",
    "zone_unit_prices[2] <- round(zone_unit_prices[2], 0)\n",
    "\n",
    "twoord.plot(lx=c(1:9), ly=zone_sales, lylim=c(0, max(zone_sales)*1.1), \n",
    "rylim=c(0, max(zone_unit_prices)*1.1), main=\"链家广州各区域交易情况\", \n",
    "xlab=\"区域\", ylab=\"成交量(套)\", rylab=\"均价(元)\", \n",
    "rx=c(1:9), ry=zone_unit_prices[names(zone_sales)], \n",
    "type=c(\"bar\", \"b\"), xlim=c(0, 10), xticklab=names(zone_sales))\n",
    "text(c(1:9), zone_sales+300, zone_sales)\n",
    "rypos <- round(zone_unit_prices[names(zone_sales)]*max(zone_sales)/max(zone_unit_prices))\n",
    "text(c(1:9), rypos+600, round(zone_unit_prices[names(zone_sales)]), col=\"red\")"
   ]
  },
  {
   "cell_type": "code",
   "execution_count": null,
   "metadata": {},
   "outputs": [],
   "source": [
    " table(deal_date)[2]"
   ]
  },
  {
   "cell_type": "code",
   "execution_count": null,
   "metadata": {},
   "outputs": [],
   "source": []
  }
 ],
 "metadata": {
  "kernelspec": {
   "display_name": "R",
   "language": "R",
   "name": "ir"
  },
  "language_info": {
   "codemirror_mode": "r",
   "file_extension": ".r",
   "mimetype": "text/x-r-source",
   "name": "R",
   "pygments_lexer": "r",
   "version": "3.4.3"
  }
 },
 "nbformat": 4,
 "nbformat_minor": 2
}
