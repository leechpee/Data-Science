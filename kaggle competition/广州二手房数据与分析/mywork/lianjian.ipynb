{
 "cells": [
  {
   "cell_type": "markdown",
   "metadata": {},
   "source": [
    "https://zhuanlan.zhihu.com/p/34639593\n",
    "链家网：链家是一家集房产交易服务、资产管理服务为一体以数据驱动的价值链房产服务平台，其业务覆盖二手房交易、新房交易、租赁、装修服务等。链家目前已覆盖北京、上海、广州、深圳、天津、成都、青岛、重庆、大连、合肥等28个地区，全国门店数量约8000家，旗下经纪人超过13万名。"
   ]
  },
  {
   "cell_type": "markdown",
   "metadata": {},
   "source": [
    "## 1.数据获取"
   ]
  },
  {
   "cell_type": "markdown",
   "metadata": {},
   "source": [
    "用爬虫总共爬取了广州11个区，对每个区分别爬取二手房信息再汇总，总共18099行（2018/06/11）。\n",
    "![广州二手房数据](images/lianjia.png)"
   ]
  },
  {
   "cell_type": "markdown",
   "metadata": {},
   "source": [
    "### 数据说明"
   ]
  },
  {
   "cell_type": "markdown",
   "metadata": {},
   "source": [
    "链家网采集字段详细说明：\n",
    "\n",
    "+ **houseName(房源小区名字)**，\n",
    "+ **roomType(房屋户型)**， \n",
    "+ **area(房屋面积)**， \n",
    "+ **toward(房屋朝向)**， \n",
    "+ **floor(房屋楼层)**， \n",
    "+ **year(房屋建造时间)**，\n",
    "+ **address(房屋地址)**，\n",
    "+ **price(房屋价格)**，\n",
    "+ **unitPrice(房屋单价)**，\n",
    "+ **region(房屋所属区域)**。"
   ]
  },
  {
   "cell_type": "markdown",
   "metadata": {},
   "source": [
    "## 2.数据清洗"
   ]
  },
  {
   "cell_type": "code",
   "execution_count": 116,
   "metadata": {},
   "outputs": [
    {
     "name": "stdout",
     "output_type": "stream",
     "text": [
      "'data.frame':\t18099 obs. of  11 variables:\n",
      " $ X        : int  0 1 2 3 4 5 6 7 8 9 ...\n",
      " $ houseName: Factor w/ 3589 levels \"105国道大石段 \",..: 2565 1784 584 2376 2500 1218 1234 3570 2847 2676 ...\n",
      " $ roomType : Factor w/ 42 levels \"10室2厅\",\"10室3厅\",..: 13 13 13 9 9 13 13 9 9 8 ...\n",
      " $ area     : Factor w/ 5848 levels \"0室0厅\",\"10.97平米\",..: 5624 224 1171 4188 3699 441 449 4145 3451 4441 ...\n",
      " $ toward   : Factor w/ 167 levels \"103.63平米\",\"103平米\",..: 161 163 162 162 163 162 166 162 163 164 ...\n",
      " $ floor    : Factor w/ 159 levels \"19层\",\"1层\",\"2层\",..: 32 21 48 32 108 84 135 159 109 134 ...\n",
      " $ year     : Factor w/ 104 levels \"\",\"1970年建板楼\",..: 49 58 79 67 46 55 88 44 46 49 ...\n",
      " $ address  : Factor w/ 148 levels \"白云大道北\",\"白云大道南\",..: 117 111 148 138 117 49 49 114 98 114 ...\n",
      " $ price    : num  580 505 1150 400 339 625 670 510 145 515 ...\n",
      " $ unitPrice: Factor w/ 11083 levels \"单价100000元/平米\",..: 9717 8093 10914 8811 8459 9327 9850 10364 1298 10201 ...\n",
      " $ region   : Factor w/ 11 levels \"白云\",\"从化\",..: 9 9 9 9 9 9 9 9 9 9 ...\n"
     ]
    }
   ],
   "source": [
    "# 导入包\n",
    "library(ggplot2)\n",
    "\n",
    "# 导入数据\n",
    "data <- read.csv('data/lianjia_gz_ershoufang_new.csv', header = T)\n",
    "str(data)"
   ]
  },
  {
   "cell_type": "code",
   "execution_count": 117,
   "metadata": {},
   "outputs": [
    {
     "data": {
      "text/html": [
       "<table>\n",
       "<thead><tr><th scope=col>houseName</th><th scope=col>roomType</th><th scope=col>area</th><th scope=col>toward</th><th scope=col>floor</th><th scope=col>year</th><th scope=col>address</th><th scope=col>price</th><th scope=col>unitPrice</th><th scope=col>region</th></tr></thead>\n",
       "<tbody>\n",
       "\t<tr><td>穗园小区         </td><td>3室2厅           </td><td>96.34平米        </td><td>东南             </td><td>低楼层(共30层)   </td><td>2000年建塔楼     </td><td>天润路           </td><td> 580             </td><td>单价60204元/平米 </td><td>天河             </td></tr>\n",
       "\t<tr><td>骏景花园         </td><td>3室2厅           </td><td>104平米          </td><td>南 北            </td><td>低楼层(共20层)   </td><td>2003年建塔楼     </td><td>棠下             </td><td> 505             </td><td>单价48558元/平米 </td><td>天河             </td></tr>\n",
       "\t<tr><td>方圆月岛         </td><td>3室2厅           </td><td>132.5平米        </td><td>南               </td><td>低楼层(共46层)   </td><td>2009年建塔楼     </td><td>珠江新城中       </td><td>1150             </td><td>单价86793元/平米 </td><td>天河             </td></tr>\n",
       "\t<tr><td>赛拉维           </td><td>2室2厅           </td><td>75.59平米        </td><td>南               </td><td>低楼层(共30层)   </td><td>2006年建塔楼     </td><td>员村             </td><td> 400             </td><td>单价52918元/平米 </td><td>天河             </td></tr>\n",
       "\t<tr><td>水利电力学院     </td><td>2室2厅           </td><td>67平米           </td><td>南 北            </td><td>高楼层(共8层)    </td><td>1999年建塔楼     </td><td>天润路           </td><td> 339             </td><td>单价50598元/平米 </td><td>天河             </td></tr>\n",
       "\t<tr><td>华景新城翠安侬苑 </td><td>3室2厅           </td><td>109.88平米       </td><td>南               </td><td>高楼层(共32层)   </td><td>2002年建塔楼     </td><td>华景新城         </td><td> 625             </td><td>单价56881元/平米 </td><td>天河             </td></tr>\n",
       "</tbody>\n",
       "</table>\n"
      ],
      "text/latex": [
       "\\begin{tabular}{r|llllllllll}\n",
       " houseName & roomType & area & toward & floor & year & address & price & unitPrice & region\\\\\n",
       "\\hline\n",
       "\t 穗园小区          & 3室2厅            & 96.34平米         & 东南              & 低楼层(共30层)    & 2000年建塔楼      & 天润路            &  580              & 单价60204元/平米  & 天河             \\\\\n",
       "\t 骏景花园          & 3室2厅            & 104平米           & 南 北             & 低楼层(共20层)    & 2003年建塔楼      & 棠下              &  505              & 单价48558元/平米  & 天河             \\\\\n",
       "\t 方圆月岛          & 3室2厅            & 132.5平米         & 南                & 低楼层(共46层)    & 2009年建塔楼      & 珠江新城中        & 1150              & 单价86793元/平米  & 天河             \\\\\n",
       "\t 赛拉维            & 2室2厅            & 75.59平米         & 南                & 低楼层(共30层)    & 2006年建塔楼      & 员村              &  400              & 单价52918元/平米  & 天河             \\\\\n",
       "\t 水利电力学院      & 2室2厅            & 67平米            & 南 北             & 高楼层(共8层)     & 1999年建塔楼      & 天润路            &  339              & 单价50598元/平米  & 天河             \\\\\n",
       "\t 华景新城翠安侬苑  & 3室2厅            & 109.88平米        & 南                & 高楼层(共32层)    & 2002年建塔楼      & 华景新城          &  625              & 单价56881元/平米  & 天河             \\\\\n",
       "\\end{tabular}\n"
      ],
      "text/markdown": [
       "\n",
       "houseName | roomType | area | toward | floor | year | address | price | unitPrice | region | \n",
       "|---|---|---|---|---|---|\n",
       "| 穗园小区          | 3室2厅            | 96.34平米         | 东南              | 低楼层(共30层)    | 2000年建塔楼      | 天润路            |  580              | 单价60204元/平米  | 天河              | \n",
       "| 骏景花园          | 3室2厅            | 104平米           | 南 北             | 低楼层(共20层)    | 2003年建塔楼      | 棠下              |  505              | 单价48558元/平米  | 天河              | \n",
       "| 方圆月岛          | 3室2厅            | 132.5平米         | 南                | 低楼层(共46层)    | 2009年建塔楼      | 珠江新城中        | 1150              | 单价86793元/平米  | 天河              | \n",
       "| 赛拉维            | 2室2厅            | 75.59平米         | 南                | 低楼层(共30层)    | 2006年建塔楼      | 员村              |  400              | 单价52918元/平米  | 天河              | \n",
       "| 水利电力学院      | 2室2厅            | 67平米            | 南 北             | 高楼层(共8层)     | 1999年建塔楼      | 天润路            |  339              | 单价50598元/平米  | 天河              | \n",
       "| 华景新城翠安侬苑  | 3室2厅            | 109.88平米        | 南                | 高楼层(共32层)    | 2002年建塔楼      | 华景新城          |  625              | 单价56881元/平米  | 天河              | \n",
       "\n",
       "\n"
      ],
      "text/plain": [
       "  houseName         roomType area       toward floor          year        \n",
       "1 穗园小区          3室2厅   96.34平米  东南   低楼层(共30层) 2000年建塔楼\n",
       "2 骏景花园          3室2厅   104平米    南 北  低楼层(共20层) 2003年建塔楼\n",
       "3 方圆月岛          3室2厅   132.5平米  南     低楼层(共46层) 2009年建塔楼\n",
       "4 赛拉维            2室2厅   75.59平米  南     低楼层(共30层) 2006年建塔楼\n",
       "5 水利电力学院      2室2厅   67平米     南 北  高楼层(共8层)  1999年建塔楼\n",
       "6 华景新城翠安侬苑  3室2厅   109.88平米 南     高楼层(共32层) 2002年建塔楼\n",
       "  address    price unitPrice        region\n",
       "1 天润路      580  单价60204元/平米 天河  \n",
       "2 棠下        505  单价48558元/平米 天河  \n",
       "3 珠江新城中 1150  单价86793元/平米 天河  \n",
       "4 员村        400  单价52918元/平米 天河  \n",
       "5 天润路      339  单价50598元/平米 天河  \n",
       "6 华景新城    625  单价56881元/平米 天河  "
      ]
     },
     "metadata": {},
     "output_type": "display_data"
    }
   ],
   "source": [
    "# 删除第一列\n",
    "data <- data[, -1]\n",
    "head(data)"
   ]
  },
  {
   "cell_type": "code",
   "execution_count": 118,
   "metadata": {
    "scrolled": true
   },
   "outputs": [
    {
     "name": "stderr",
     "output_type": "stream",
     "text": [
      "Warning message in eval(expr, envir, enclos):\n",
      "\"强制改变过程中产生了NA\""
     ]
    },
    {
     "data": {
      "text/html": [
       "<table>\n",
       "<thead><tr><th scope=col>houseName</th><th scope=col>roomType</th><th scope=col>area</th><th scope=col>toward</th><th scope=col>floor</th><th scope=col>year</th><th scope=col>address</th><th scope=col>price</th><th scope=col>unitPrice</th><th scope=col>region</th></tr></thead>\n",
       "<tbody>\n",
       "\t<tr><td>穗园小区         </td><td>3室2厅           </td><td> 96.34           </td><td>东南             </td><td>低楼层(共30层)   </td><td>2000年建塔楼     </td><td>天润路           </td><td> 580             </td><td>单价60204元/平米 </td><td>天河             </td></tr>\n",
       "\t<tr><td>骏景花园         </td><td>3室2厅           </td><td>104.00           </td><td>南 北            </td><td>低楼层(共20层)   </td><td>2003年建塔楼     </td><td>棠下             </td><td> 505             </td><td>单价48558元/平米 </td><td>天河             </td></tr>\n",
       "\t<tr><td>方圆月岛         </td><td>3室2厅           </td><td>132.50           </td><td>南               </td><td>低楼层(共46层)   </td><td>2009年建塔楼     </td><td>珠江新城中       </td><td>1150             </td><td>单价86793元/平米 </td><td>天河             </td></tr>\n",
       "\t<tr><td>赛拉维           </td><td>2室2厅           </td><td> 75.59           </td><td>南               </td><td>低楼层(共30层)   </td><td>2006年建塔楼     </td><td>员村             </td><td> 400             </td><td>单价52918元/平米 </td><td>天河             </td></tr>\n",
       "\t<tr><td>水利电力学院     </td><td>2室2厅           </td><td> 67.00           </td><td>南 北            </td><td>高楼层(共8层)    </td><td>1999年建塔楼     </td><td>天润路           </td><td> 339             </td><td>单价50598元/平米 </td><td>天河             </td></tr>\n",
       "\t<tr><td>华景新城翠安侬苑 </td><td>3室2厅           </td><td>109.88           </td><td>南               </td><td>高楼层(共32层)   </td><td>2002年建塔楼     </td><td>华景新城         </td><td> 625             </td><td>单价56881元/平米 </td><td>天河             </td></tr>\n",
       "</tbody>\n",
       "</table>\n"
      ],
      "text/latex": [
       "\\begin{tabular}{r|llllllllll}\n",
       " houseName & roomType & area & toward & floor & year & address & price & unitPrice & region\\\\\n",
       "\\hline\n",
       "\t 穗园小区          & 3室2厅            &  96.34            & 东南              & 低楼层(共30层)    & 2000年建塔楼      & 天润路            &  580              & 单价60204元/平米  & 天河             \\\\\n",
       "\t 骏景花园          & 3室2厅            & 104.00            & 南 北             & 低楼层(共20层)    & 2003年建塔楼      & 棠下              &  505              & 单价48558元/平米  & 天河             \\\\\n",
       "\t 方圆月岛          & 3室2厅            & 132.50            & 南                & 低楼层(共46层)    & 2009年建塔楼      & 珠江新城中        & 1150              & 单价86793元/平米  & 天河             \\\\\n",
       "\t 赛拉维            & 2室2厅            &  75.59            & 南                & 低楼层(共30层)    & 2006年建塔楼      & 员村              &  400              & 单价52918元/平米  & 天河             \\\\\n",
       "\t 水利电力学院      & 2室2厅            &  67.00            & 南 北             & 高楼层(共8层)     & 1999年建塔楼      & 天润路            &  339              & 单价50598元/平米  & 天河             \\\\\n",
       "\t 华景新城翠安侬苑  & 3室2厅            & 109.88            & 南                & 高楼层(共32层)    & 2002年建塔楼      & 华景新城          &  625              & 单价56881元/平米  & 天河             \\\\\n",
       "\\end{tabular}\n"
      ],
      "text/markdown": [
       "\n",
       "houseName | roomType | area | toward | floor | year | address | price | unitPrice | region | \n",
       "|---|---|---|---|---|---|\n",
       "| 穗园小区          | 3室2厅            |  96.34            | 东南              | 低楼层(共30层)    | 2000年建塔楼      | 天润路            |  580              | 单价60204元/平米  | 天河              | \n",
       "| 骏景花园          | 3室2厅            | 104.00            | 南 北             | 低楼层(共20层)    | 2003年建塔楼      | 棠下              |  505              | 单价48558元/平米  | 天河              | \n",
       "| 方圆月岛          | 3室2厅            | 132.50            | 南                | 低楼层(共46层)    | 2009年建塔楼      | 珠江新城中        | 1150              | 单价86793元/平米  | 天河              | \n",
       "| 赛拉维            | 2室2厅            |  75.59            | 南                | 低楼层(共30层)    | 2006年建塔楼      | 员村              |  400              | 单价52918元/平米  | 天河              | \n",
       "| 水利电力学院      | 2室2厅            |  67.00            | 南 北             | 高楼层(共8层)     | 1999年建塔楼      | 天润路            |  339              | 单价50598元/平米  | 天河              | \n",
       "| 华景新城翠安侬苑  | 3室2厅            | 109.88            | 南                | 高楼层(共32层)    | 2002年建塔楼      | 华景新城          |  625              | 单价56881元/平米  | 天河              | \n",
       "\n",
       "\n"
      ],
      "text/plain": [
       "  houseName         roomType area   toward floor          year        \n",
       "1 穗园小区          3室2厅    96.34 东南   低楼层(共30层) 2000年建塔楼\n",
       "2 骏景花园          3室2厅   104.00 南 北  低楼层(共20层) 2003年建塔楼\n",
       "3 方圆月岛          3室2厅   132.50 南     低楼层(共46层) 2009年建塔楼\n",
       "4 赛拉维            2室2厅    75.59 南     低楼层(共30层) 2006年建塔楼\n",
       "5 水利电力学院      2室2厅    67.00 南 北  高楼层(共8层)  1999年建塔楼\n",
       "6 华景新城翠安侬苑  3室2厅   109.88 南     高楼层(共32层) 2002年建塔楼\n",
       "  address    price unitPrice        region\n",
       "1 天润路      580  单价60204元/平米 天河  \n",
       "2 棠下        505  单价48558元/平米 天河  \n",
       "3 珠江新城中 1150  单价86793元/平米 天河  \n",
       "4 员村        400  单价52918元/平米 天河  \n",
       "5 天润路      339  单价50598元/平米 天河  \n",
       "6 华景新城    625  单价56881元/平米 天河  "
      ]
     },
     "metadata": {},
     "output_type": "display_data"
    }
   ],
   "source": [
    "\n",
    "data$area <- as.numeric(sub(pattern = \"平米\", replacement = \"\", data$area))\n",
    "head(data)"
   ]
  },
  {
   "cell_type": "code",
   "execution_count": 119,
   "metadata": {},
   "outputs": [],
   "source": [
    "data <- na.omit(data)"
   ]
  },
  {
   "cell_type": "code",
   "execution_count": 120,
   "metadata": {},
   "outputs": [
    {
     "name": "stderr",
     "output_type": "stream",
     "text": [
      "Warning message in as.numeric(substring(data$year, 1, 4)) %in% 1950:2100:\n",
      "\"强制改变过程中产生了NA\""
     ]
    }
   ],
   "source": [
    "# data$year <- factor(substr(data$year, 1, 4))\n",
    "data$year <- ifelse(as.numeric(substring(data$year,1,4)) %in% 1950:2100, substring(data$year,1,4),'其他')\n",
    "data$year <- factor(data$year)\n",
    "# head(data)"
   ]
  },
  {
   "cell_type": "code",
   "execution_count": 121,
   "metadata": {},
   "outputs": [
    {
     "data": {
      "text/html": [
       "<table>\n",
       "<thead><tr><th scope=col>houseName</th><th scope=col>roomType</th><th scope=col>area</th><th scope=col>toward</th><th scope=col>floor</th><th scope=col>year</th><th scope=col>address</th><th scope=col>price</th><th scope=col>unitPrice</th><th scope=col>region</th></tr></thead>\n",
       "<tbody>\n",
       "\t<tr><td>穗园小区         </td><td>3室2厅           </td><td> 96.34           </td><td>东南             </td><td>低楼层(共30层)   </td><td>2000             </td><td>天润路           </td><td> 580             </td><td>60204            </td><td>天河             </td></tr>\n",
       "\t<tr><td>骏景花园         </td><td>3室2厅           </td><td>104.00           </td><td>南 北            </td><td>低楼层(共20层)   </td><td>2003             </td><td>棠下             </td><td> 505             </td><td>48558            </td><td>天河             </td></tr>\n",
       "\t<tr><td>方圆月岛         </td><td>3室2厅           </td><td>132.50           </td><td>南               </td><td>低楼层(共46层)   </td><td>2009             </td><td>珠江新城中       </td><td>1150             </td><td>86793            </td><td>天河             </td></tr>\n",
       "\t<tr><td>赛拉维           </td><td>2室2厅           </td><td> 75.59           </td><td>南               </td><td>低楼层(共30层)   </td><td>2006             </td><td>员村             </td><td> 400             </td><td>52918            </td><td>天河             </td></tr>\n",
       "\t<tr><td>水利电力学院     </td><td>2室2厅           </td><td> 67.00           </td><td>南 北            </td><td>高楼层(共8层)    </td><td>1999             </td><td>天润路           </td><td> 339             </td><td>50598            </td><td>天河             </td></tr>\n",
       "\t<tr><td>华景新城翠安侬苑 </td><td>3室2厅           </td><td>109.88           </td><td>南               </td><td>高楼层(共32层)   </td><td>2002             </td><td>华景新城         </td><td> 625             </td><td>56881            </td><td>天河             </td></tr>\n",
       "</tbody>\n",
       "</table>\n"
      ],
      "text/latex": [
       "\\begin{tabular}{r|llllllllll}\n",
       " houseName & roomType & area & toward & floor & year & address & price & unitPrice & region\\\\\n",
       "\\hline\n",
       "\t 穗园小区          & 3室2厅            &  96.34            & 东南              & 低楼层(共30层)    & 2000              & 天润路            &  580              & 60204             & 天河             \\\\\n",
       "\t 骏景花园          & 3室2厅            & 104.00            & 南 北             & 低楼层(共20层)    & 2003              & 棠下              &  505              & 48558             & 天河             \\\\\n",
       "\t 方圆月岛          & 3室2厅            & 132.50            & 南                & 低楼层(共46层)    & 2009              & 珠江新城中        & 1150              & 86793             & 天河             \\\\\n",
       "\t 赛拉维            & 2室2厅            &  75.59            & 南                & 低楼层(共30层)    & 2006              & 员村              &  400              & 52918             & 天河             \\\\\n",
       "\t 水利电力学院      & 2室2厅            &  67.00            & 南 北             & 高楼层(共8层)     & 1999              & 天润路            &  339              & 50598             & 天河             \\\\\n",
       "\t 华景新城翠安侬苑  & 3室2厅            & 109.88            & 南                & 高楼层(共32层)    & 2002              & 华景新城          &  625              & 56881             & 天河             \\\\\n",
       "\\end{tabular}\n"
      ],
      "text/markdown": [
       "\n",
       "houseName | roomType | area | toward | floor | year | address | price | unitPrice | region | \n",
       "|---|---|---|---|---|---|\n",
       "| 穗园小区          | 3室2厅            |  96.34            | 东南              | 低楼层(共30层)    | 2000              | 天润路            |  580              | 60204             | 天河              | \n",
       "| 骏景花园          | 3室2厅            | 104.00            | 南 北             | 低楼层(共20层)    | 2003              | 棠下              |  505              | 48558             | 天河              | \n",
       "| 方圆月岛          | 3室2厅            | 132.50            | 南                | 低楼层(共46层)    | 2009              | 珠江新城中        | 1150              | 86793             | 天河              | \n",
       "| 赛拉维            | 2室2厅            |  75.59            | 南                | 低楼层(共30层)    | 2006              | 员村              |  400              | 52918             | 天河              | \n",
       "| 水利电力学院      | 2室2厅            |  67.00            | 南 北             | 高楼层(共8层)     | 1999              | 天润路            |  339              | 50598             | 天河              | \n",
       "| 华景新城翠安侬苑  | 3室2厅            | 109.88            | 南                | 高楼层(共32层)    | 2002              | 华景新城          |  625              | 56881             | 天河              | \n",
       "\n",
       "\n"
      ],
      "text/plain": [
       "  houseName         roomType area   toward floor          year address    price\n",
       "1 穗园小区          3室2厅    96.34 东南   低楼层(共30层) 2000 天润路      580 \n",
       "2 骏景花园          3室2厅   104.00 南 北  低楼层(共20层) 2003 棠下        505 \n",
       "3 方圆月岛          3室2厅   132.50 南     低楼层(共46层) 2009 珠江新城中 1150 \n",
       "4 赛拉维            2室2厅    75.59 南     低楼层(共30层) 2006 员村        400 \n",
       "5 水利电力学院      2室2厅    67.00 南 北  高楼层(共8层)  1999 天润路      339 \n",
       "6 华景新城翠安侬苑  3室2厅   109.88 南     高楼层(共32层) 2002 华景新城    625 \n",
       "  unitPrice region\n",
       "1 60204     天河  \n",
       "2 48558     天河  \n",
       "3 86793     天河  \n",
       "4 52918     天河  \n",
       "5 50598     天河  \n",
       "6 56881     天河  "
      ]
     },
     "metadata": {},
     "output_type": "display_data"
    }
   ],
   "source": [
    "data$unitPrice <- as.numeric(sub(pattern = \"单价(.*)元/平米\", replacement = \"\\\\1\", data$unitPrice))\n",
    "head(data)"
   ]
  },
  {
   "cell_type": "code",
   "execution_count": 122,
   "metadata": {},
   "outputs": [],
   "source": [
    "library(stringr)\n",
    "\n",
    "data$floor <- ifelse(substring(data$floor,1,3) %in% c('低楼层','中楼层','高楼层'), substring(data$floor,1,3),'其他')\n",
    "data$floor <- factor(data$floor)"
   ]
  },
  {
   "cell_type": "code",
   "execution_count": 123,
   "metadata": {},
   "outputs": [
    {
     "data": {
      "text/html": [
       "<table>\n",
       "<thead><tr><th scope=col>houseName</th><th scope=col>roomType</th><th scope=col>area</th><th scope=col>toward</th><th scope=col>floor</th><th scope=col>year</th><th scope=col>address</th><th scope=col>price</th><th scope=col>unitPrice</th><th scope=col>region</th></tr></thead>\n",
       "<tbody>\n",
       "\t<tr><td>穗园小区         </td><td>3室2厅           </td><td> 96.34           </td><td>东南             </td><td>低楼层           </td><td>2000             </td><td>天润路           </td><td> 580             </td><td>60204            </td><td>天河             </td></tr>\n",
       "\t<tr><td>骏景花园         </td><td>3室2厅           </td><td>104.00           </td><td>南 北            </td><td>低楼层           </td><td>2003             </td><td>棠下             </td><td> 505             </td><td>48558            </td><td>天河             </td></tr>\n",
       "\t<tr><td>方圆月岛         </td><td>3室2厅           </td><td>132.50           </td><td>南               </td><td>低楼层           </td><td>2009             </td><td>珠江新城中       </td><td>1150             </td><td>86793            </td><td>天河             </td></tr>\n",
       "\t<tr><td>赛拉维           </td><td>2室2厅           </td><td> 75.59           </td><td>南               </td><td>低楼层           </td><td>2006             </td><td>员村             </td><td> 400             </td><td>52918            </td><td>天河             </td></tr>\n",
       "\t<tr><td>水利电力学院     </td><td>2室2厅           </td><td> 67.00           </td><td>南 北            </td><td>高楼层           </td><td>1999             </td><td>天润路           </td><td> 339             </td><td>50598            </td><td>天河             </td></tr>\n",
       "\t<tr><td>华景新城翠安侬苑 </td><td>3室2厅           </td><td>109.88           </td><td>南               </td><td>高楼层           </td><td>2002             </td><td>华景新城         </td><td> 625             </td><td>56881            </td><td>天河             </td></tr>\n",
       "</tbody>\n",
       "</table>\n"
      ],
      "text/latex": [
       "\\begin{tabular}{r|llllllllll}\n",
       " houseName & roomType & area & toward & floor & year & address & price & unitPrice & region\\\\\n",
       "\\hline\n",
       "\t 穗园小区          & 3室2厅            &  96.34            & 东南              & 低楼层            & 2000              & 天润路            &  580              & 60204             & 天河             \\\\\n",
       "\t 骏景花园          & 3室2厅            & 104.00            & 南 北             & 低楼层            & 2003              & 棠下              &  505              & 48558             & 天河             \\\\\n",
       "\t 方圆月岛          & 3室2厅            & 132.50            & 南                & 低楼层            & 2009              & 珠江新城中        & 1150              & 86793             & 天河             \\\\\n",
       "\t 赛拉维            & 2室2厅            &  75.59            & 南                & 低楼层            & 2006              & 员村              &  400              & 52918             & 天河             \\\\\n",
       "\t 水利电力学院      & 2室2厅            &  67.00            & 南 北             & 高楼层            & 1999              & 天润路            &  339              & 50598             & 天河             \\\\\n",
       "\t 华景新城翠安侬苑  & 3室2厅            & 109.88            & 南                & 高楼层            & 2002              & 华景新城          &  625              & 56881             & 天河             \\\\\n",
       "\\end{tabular}\n"
      ],
      "text/markdown": [
       "\n",
       "houseName | roomType | area | toward | floor | year | address | price | unitPrice | region | \n",
       "|---|---|---|---|---|---|\n",
       "| 穗园小区          | 3室2厅            |  96.34            | 东南              | 低楼层            | 2000              | 天润路            |  580              | 60204             | 天河              | \n",
       "| 骏景花园          | 3室2厅            | 104.00            | 南 北             | 低楼层            | 2003              | 棠下              |  505              | 48558             | 天河              | \n",
       "| 方圆月岛          | 3室2厅            | 132.50            | 南                | 低楼层            | 2009              | 珠江新城中        | 1150              | 86793             | 天河              | \n",
       "| 赛拉维            | 2室2厅            |  75.59            | 南                | 低楼层            | 2006              | 员村              |  400              | 52918             | 天河              | \n",
       "| 水利电力学院      | 2室2厅            |  67.00            | 南 北             | 高楼层            | 1999              | 天润路            |  339              | 50598             | 天河              | \n",
       "| 华景新城翠安侬苑  | 3室2厅            | 109.88            | 南                | 高楼层            | 2002              | 华景新城          |  625              | 56881             | 天河              | \n",
       "\n",
       "\n"
      ],
      "text/plain": [
       "  houseName         roomType area   toward floor  year address    price\n",
       "1 穗园小区          3室2厅    96.34 东南   低楼层 2000 天润路      580 \n",
       "2 骏景花园          3室2厅   104.00 南 北  低楼层 2003 棠下        505 \n",
       "3 方圆月岛          3室2厅   132.50 南     低楼层 2009 珠江新城中 1150 \n",
       "4 赛拉维            2室2厅    75.59 南     低楼层 2006 员村        400 \n",
       "5 水利电力学院      2室2厅    67.00 南 北  高楼层 1999 天润路      339 \n",
       "6 华景新城翠安侬苑  3室2厅   109.88 南     高楼层 2002 华景新城    625 \n",
       "  unitPrice region\n",
       "1 60204     天河  \n",
       "2 48558     天河  \n",
       "3 86793     天河  \n",
       "4 52918     天河  \n",
       "5 50598     天河  \n",
       "6 56881     天河  "
      ]
     },
     "metadata": {},
     "output_type": "display_data"
    }
   ],
   "source": [
    "head(data)"
   ]
  },
  {
   "cell_type": "markdown",
   "metadata": {},
   "source": [
    "## 3.数据探索"
   ]
  },
  {
   "cell_type": "code",
   "execution_count": 124,
   "metadata": {},
   "outputs": [],
   "source": [
    "amount <- data.frame(table(data$region))"
   ]
  },
  {
   "cell_type": "code",
   "execution_count": 125,
   "metadata": {},
   "outputs": [
    {
     "data": {},
     "metadata": {},
     "output_type": "display_data"
    },
    {
     "data": {
      "image/png": "[encoded data removed]",
      "text/plain": [
       "plot without title"
      ]
     },
     "metadata": {},
     "output_type": "display_data"
    }
   ],
   "source": [
    "ggplot(data = amount, mapping = aes(x = reorder(Var1, -Freq),y = Freq))+\n",
    "    # 生成标题\n",
    "    ggtitle('各区房源数量分布') +\n",
    "    # 生成条形图，每个柱的宽度0.8，填充'#FF9999'的颜色\n",
    "    geom_bar(stat = 'identity', fill = '#FF9999') + \n",
    "    # 标题居中\n",
    "    theme(plot.title = element_text(hjust = 0.5)) + \n",
    "    # 在条形图上标注数字\n",
    "    geom_text(aes(label = Freq),position = position_stack(vjust = 1.05)) +\n",
    "    # 横轴标签'各区'\n",
    "    xlab('region') + \n",
    "    # 纵轴标签'数量'\n",
    "    ylab('count')"
   ]
  },
  {
   "cell_type": "code",
   "execution_count": 126,
   "metadata": {},
   "outputs": [
    {
     "data": {
      "text/html": [
       "<dl class=dl-horizontal>\n",
       "\t<dt>3室2厅</dt>\n",
       "\t\t<dd>5718</dd>\n",
       "\t<dt>2室1厅</dt>\n",
       "\t\t<dd>3468</dd>\n",
       "\t<dt>2室2厅</dt>\n",
       "\t\t<dd>3261</dd>\n",
       "\t<dt>3室1厅</dt>\n",
       "\t\t<dd>1684</dd>\n",
       "\t<dt>4室2厅</dt>\n",
       "\t\t<dd>1380</dd>\n",
       "\t<dt>1室1厅</dt>\n",
       "\t\t<dd>1210</dd>\n",
       "\t<dt>1室0厅</dt>\n",
       "\t\t<dd>449</dd>\n",
       "\t<dt>5室2厅</dt>\n",
       "\t\t<dd>299</dd>\n",
       "\t<dt>4室1厅</dt>\n",
       "\t\t<dd>119</dd>\n",
       "\t<dt>1室2厅</dt>\n",
       "\t\t<dd>69</dd>\n",
       "</dl>\n"
      ],
      "text/latex": [
       "\\begin{description*}\n",
       "\\item[3室2厅] 5718\n",
       "\\item[2室1厅] 3468\n",
       "\\item[2室2厅] 3261\n",
       "\\item[3室1厅] 1684\n",
       "\\item[4室2厅] 1380\n",
       "\\item[1室1厅] 1210\n",
       "\\item[1室0厅] 449\n",
       "\\item[5室2厅] 299\n",
       "\\item[4室1厅] 119\n",
       "\\item[1室2厅] 69\n",
       "\\end{description*}\n"
      ],
      "text/markdown": [
       "3室2厅\n",
       ":   57182室1厅\n",
       ":   34682室2厅\n",
       ":   32613室1厅\n",
       ":   16844室2厅\n",
       ":   13801室1厅\n",
       ":   12101室0厅\n",
       ":   4495室2厅\n",
       ":   2994室1厅\n",
       ":   1191室2厅\n",
       ":   69\n",
       "\n"
      ],
      "text/plain": [
       "3室2厅 2室1厅 2室2厅 3室1厅 4室2厅 1室1厅 1室0厅 5室2厅 4室1厅 1室2厅 \n",
       "  5718   3468   3261   1684   1380   1210    449    299    119     69 "
      ]
     },
     "metadata": {},
     "output_type": "display_data"
    }
   ],
   "source": [
    "typetop15 = sort(summary(data$roomType),decreasing = T)\n",
    "typetop15[1:10]"
   ]
  },
  {
   "cell_type": "code",
   "execution_count": 127,
   "metadata": {},
   "outputs": [
    {
     "data": {
      "text/html": [
       "<table>\n",
       "<thead><tr><th></th><th scope=col>houseName</th><th scope=col>roomType</th><th scope=col>area</th><th scope=col>toward</th><th scope=col>floor</th><th scope=col>year</th><th scope=col>address</th><th scope=col>price</th><th scope=col>unitPrice</th><th scope=col>region</th></tr></thead>\n",
       "<tbody>\n",
       "\t<tr><th scope=row>1</th><td>穗园小区               </td><td>3室2厅                 </td><td> 96.34                 </td><td>东南                   </td><td>低楼层                 </td><td>2000                   </td><td>天润路                 </td><td> 580                   </td><td>60204                  </td><td>天河                   </td></tr>\n",
       "\t<tr><th scope=row>2</th><td>骏景花园               </td><td>3室2厅                 </td><td>104.00                 </td><td>南 北                  </td><td>低楼层                 </td><td>2003                   </td><td>棠下                   </td><td> 505                   </td><td>48558                  </td><td>天河                   </td></tr>\n",
       "\t<tr><th scope=row>3</th><td>方圆月岛               </td><td>3室2厅                 </td><td>132.50                 </td><td>南                     </td><td>低楼层                 </td><td>2009                   </td><td>珠江新城中             </td><td>1150                   </td><td>86793                  </td><td>天河                   </td></tr>\n",
       "\t<tr><th scope=row>6</th><td>华景新城翠安侬苑       </td><td>3室2厅                 </td><td>109.88                 </td><td>南                     </td><td>高楼层                 </td><td>2002                   </td><td>华景新城               </td><td> 625                   </td><td>56881                  </td><td>天河                   </td></tr>\n",
       "\t<tr><th scope=row>7</th><td>华景新城信华花园       </td><td>3室2厅                 </td><td>109.00                 </td><td>西南                   </td><td>中楼层                 </td><td>2012                   </td><td>华景新城               </td><td> 670                   </td><td>61468                  </td><td>天河                   </td></tr>\n",
       "\t<tr><th scope=row>14</th><td>华景新城信华花园       </td><td>3室2厅                 </td><td>104.00                 </td><td>西南                   </td><td>中楼层                 </td><td>2012                   </td><td>华景新城               </td><td> 620                   </td><td>59616                  </td><td>天河                   </td></tr>\n",
       "\t<tr><th scope=row>16</th><td>金燕花园               </td><td>3室2厅                 </td><td>103.00                 </td><td>东                     </td><td>低楼层                 </td><td>2004                   </td><td>粤垦                   </td><td> 415                   </td><td>40292                  </td><td>天河                   </td></tr>\n",
       "\t<tr><th scope=row>17</th><td>侨林苑三期             </td><td>3室2厅                 </td><td>106.12                 </td><td>东南                   </td><td>中楼层                 </td><td>2003                   </td><td>天河北                 </td><td> 900                   </td><td>84810                  </td><td>天河                   </td></tr>\n",
       "\t<tr><th scope=row>18</th><td>穗园小区               </td><td>3室2厅                 </td><td>103.00                 </td><td>南 北                  </td><td>低楼层                 </td><td>2000                   </td><td>天润路                 </td><td> 550                   </td><td>53399                  </td><td>天河                   </td></tr>\n",
       "\t<tr><th scope=row>24</th><td>天河东远洋宿舍天河东路 </td><td>3室2厅                 </td><td>106.00                 </td><td>北                     </td><td>高楼层                 </td><td>1990                   </td><td>体育中心               </td><td> 689                   </td><td>65000                  </td><td>天河                   </td></tr>\n",
       "\t<tr><th scope=row>26</th><td>嘉宝华庭               </td><td>3室2厅                 </td><td>109.52                 </td><td>东 西                  </td><td>高楼层                 </td><td>2008                   </td><td>龙口西                 </td><td> 700                   </td><td>63916                  </td><td>天河                   </td></tr>\n",
       "\t<tr><th scope=row>27</th><td>芳草园                 </td><td>3室2厅                 </td><td>117.05                 </td><td>北                     </td><td>高楼层                 </td><td>2004                   </td><td>天河北                 </td><td> 840                   </td><td>71765                  </td><td>天河                   </td></tr>\n",
       "\t<tr><th scope=row>28</th><td>旭景家园D区            </td><td>3室2厅                 </td><td> 91.00                 </td><td>南                     </td><td>低楼层                 </td><td>2002                   </td><td>东圃                   </td><td> 355                   </td><td>39011                  </td><td>天河                   </td></tr>\n",
       "\t<tr><th scope=row>29</th><td>华江花园               </td><td>3室2厅                 </td><td>128.49                 </td><td>南                     </td><td>高楼层                 </td><td>1999                   </td><td>天河公园               </td><td> 590                   </td><td>45918                  </td><td>天河                   </td></tr>\n",
       "\t<tr><th scope=row>33</th><td>华景新城陶然庭园       </td><td>3室2厅                 </td><td> 92.18                 </td><td>南                     </td><td>低楼层                 </td><td>2007                   </td><td>华景新城               </td><td> 580                   </td><td>62921                  </td><td>天河                   </td></tr>\n",
       "\t<tr><th scope=row>34</th><td>金田花苑               </td><td>3室2厅                 </td><td>126.63                 </td><td>北                     </td><td>高楼层                 </td><td>1997                   </td><td>天河北                 </td><td> 580                   </td><td>45803                  </td><td>天河                   </td></tr>\n",
       "\t<tr><th scope=row>35</th><td>金田花苑               </td><td>3室2厅                 </td><td>120.00                 </td><td>北                     </td><td>中楼层                 </td><td>1997                   </td><td>天河北                 </td><td> 680                   </td><td>56667                  </td><td>天河                   </td></tr>\n",
       "\t<tr><th scope=row>38</th><td>骏景花园               </td><td>3室2厅                 </td><td>103.00                 </td><td>南                     </td><td>中楼层                 </td><td>2000                   </td><td>棠下                   </td><td> 545                   </td><td>52913                  </td><td>天河                   </td></tr>\n",
       "\t<tr><th scope=row>41</th><td>橡树园                 </td><td>3室2厅                 </td><td> 90.81                 </td><td>东南                   </td><td>高楼层                 </td><td>2006                   </td><td>沙太南                 </td><td> 360                   </td><td>39644                  </td><td>天河                   </td></tr>\n",
       "\t<tr><th scope=row>43</th><td>天力居                 </td><td>3室2厅                 </td><td> 64.00                 </td><td>南                     </td><td>高楼层                 </td><td>1998                   </td><td>东圃                   </td><td> 268                   </td><td>41875                  </td><td>天河                   </td></tr>\n",
       "\t<tr><th scope=row>48</th><td>中怡城市花园           </td><td>3室2厅                 </td><td>129.51                 </td><td>南                     </td><td>高楼层                 </td><td>2004                   </td><td>天河北                 </td><td>1050                   </td><td>81075                  </td><td>天河                   </td></tr>\n",
       "\t<tr><th scope=row>49</th><td>跑马地花园             </td><td>3室2厅                 </td><td>104.50                 </td><td>东                     </td><td>高楼层                 </td><td>1999                   </td><td>珠江新城东             </td><td> 611                   </td><td>58469                  </td><td>天河                   </td></tr>\n",
       "\t<tr><th scope=row>50</th><td>赛拉维                 </td><td>3室2厅                 </td><td>113.25                 </td><td>东 西                  </td><td>高楼层                 </td><td>2002                   </td><td>员村                   </td><td> 570                   </td><td>50332                  </td><td>天河                   </td></tr>\n",
       "\t<tr><th scope=row>51</th><td>金燕花园               </td><td>3室2厅                 </td><td> 82.00                 </td><td>南                     </td><td>低楼层                 </td><td>2004                   </td><td>粤垦                   </td><td> 338                   </td><td>41220                  </td><td>天河                   </td></tr>\n",
       "\t<tr><th scope=row>55</th><td>华景新城翠安侬苑       </td><td>3室2厅                 </td><td>114.00                 </td><td>南                     </td><td>高楼层                 </td><td>2002                   </td><td>华景新城               </td><td> 750                   </td><td>65790                  </td><td>天河                   </td></tr>\n",
       "\t<tr><th scope=row>56</th><td>半山雍景苑             </td><td>3室2厅                 </td><td> 85.36                 </td><td>东北                   </td><td>中楼层                 </td><td>2000                   </td><td>五山                   </td><td> 430                   </td><td>50375                  </td><td>天河                   </td></tr>\n",
       "\t<tr><th scope=row>60</th><td>骏景花园               </td><td>3室2厅                 </td><td> 80.65                 </td><td>北                     </td><td>中楼层                 </td><td>2000                   </td><td>棠下                   </td><td> 400                   </td><td>49598                  </td><td>天河                   </td></tr>\n",
       "\t<tr><th scope=row>63</th><td>赛拉维                 </td><td>3室2厅                 </td><td>107.57                 </td><td>西南                   </td><td>低楼层                 </td><td>2006                   </td><td>员村                   </td><td> 556                   </td><td>51688                  </td><td>天河                   </td></tr>\n",
       "\t<tr><th scope=row>64</th><td>华景新城信华花园       </td><td>3室2厅                 </td><td> 90.48                 </td><td>西北                   </td><td>中楼层                 </td><td>2012                   </td><td>华景新城               </td><td> 540                   </td><td>59682                  </td><td>天河                   </td></tr>\n",
       "\t<tr><th scope=row>66</th><td>汇峰苑                 </td><td>3室2厅                 </td><td>136.00                 </td><td>北                     </td><td>高楼层                 </td><td>2008                   </td><td>珠江新城中             </td><td>1300                   </td><td>95589                  </td><td>天河                   </td></tr>\n",
       "\t<tr><th scope=row>...</th><td>...</td><td>...</td><td>...</td><td>...</td><td>...</td><td>...</td><td>...</td><td>...</td><td>...</td><td>...</td></tr>\n",
       "\t<tr><th scope=row>18031</th><td>雅居乐雍华廷     </td><td>3室2厅           </td><td>141.31           </td><td>南 北            </td><td>低楼层           </td><td>2002             </td><td>旧区             </td><td>395.7            </td><td>28001            </td><td>花都             </td></tr>\n",
       "\t<tr><th scope=row>18032</th><td>宝铼雅居         </td><td>3室2厅           </td><td>110.00           </td><td>南               </td><td>低楼层           </td><td>2013             </td><td>铁路西           </td><td>230.0            </td><td>20910            </td><td>花都             </td></tr>\n",
       "\t<tr><th scope=row>18035</th><td>保利花城花园     </td><td>3室2厅           </td><td>122.17           </td><td>北               </td><td>高楼层           </td><td>2013             </td><td>旧区             </td><td>317.7            </td><td>26000            </td><td>花都             </td></tr>\n",
       "\t<tr><th scope=row>18038</th><td>南华时代城       </td><td>3室2厅           </td><td>116.00           </td><td>南               </td><td>低楼层           </td><td>2010             </td><td>铁路西           </td><td>255.0            </td><td>21983            </td><td>花都             </td></tr>\n",
       "\t<tr><th scope=row>18039</th><td>南华时代城       </td><td>3室2厅           </td><td>116.20           </td><td>南 北            </td><td>中楼层           </td><td>2010             </td><td>铁路西           </td><td>249.8            </td><td>21498            </td><td>花都             </td></tr>\n",
       "\t<tr><th scope=row>18040</th><td>祈福生活无限     </td><td>3室2厅           </td><td> 89.00           </td><td>南               </td><td>中楼层           </td><td>2010             </td><td>旧区             </td><td>275.0            </td><td>30899            </td><td>花都             </td></tr>\n",
       "\t<tr><th scope=row>18041</th><td>祈福生活无限     </td><td>3室2厅           </td><td> 89.62           </td><td>东南             </td><td>中楼层           </td><td>2010             </td><td>旧区             </td><td>300.0            </td><td>33475            </td><td>花都             </td></tr>\n",
       "\t<tr><th scope=row>18043</th><td>锦尚名苑         </td><td>3室2厅           </td><td>129.50           </td><td>南 北            </td><td>高楼层           </td><td>2005             </td><td>旧区             </td><td>272.0            </td><td>21000            </td><td>花都             </td></tr>\n",
       "\t<tr><th scope=row>18044</th><td>雅宝新城         </td><td>3室2厅           </td><td>116.65           </td><td>东南             </td><td>低楼层           </td><td>其他             </td><td>新区             </td><td>210.0            </td><td>18003            </td><td>花都             </td></tr>\n",
       "\t<tr><th scope=row>18046</th><td>富力金港城       </td><td>3室2厅           </td><td> 99.57           </td><td>北               </td><td>高楼层           </td><td>2013             </td><td>花东镇           </td><td>160.0            </td><td>16070            </td><td>花都             </td></tr>\n",
       "\t<tr><th scope=row>18047</th><td>富力金港城       </td><td>3室2厅           </td><td>108.00           </td><td>南               </td><td>高楼层           </td><td>其他             </td><td>花东镇           </td><td>130.0            </td><td>12038            </td><td>花都             </td></tr>\n",
       "\t<tr><th scope=row>18057</th><td>馨庭花园         </td><td>3室2厅           </td><td>124.00           </td><td>东               </td><td>中楼层           </td><td>2006             </td><td>旧区             </td><td>273.0            </td><td>22017            </td><td>花都             </td></tr>\n",
       "\t<tr><th scope=row>18061</th><td>翠华花园         </td><td>3室2厅           </td><td>105.72           </td><td>北               </td><td>低楼层           </td><td>2006             </td><td>铁路西           </td><td>175.0            </td><td>16554            </td><td>花都             </td></tr>\n",
       "\t<tr><th scope=row>18063</th><td>万科天景花园     </td><td>3室2厅           </td><td>122.00           </td><td>东南             </td><td>低楼层           </td><td>2006             </td><td>铁路西           </td><td>300.0            </td><td>24591            </td><td>花都             </td></tr>\n",
       "\t<tr><th scope=row>18064</th><td>南航花园         </td><td>3室2厅           </td><td>126.00           </td><td>南               </td><td>高楼层           </td><td>2002             </td><td>旧区             </td><td>365.4            </td><td>29000            </td><td>花都             </td></tr>\n",
       "\t<tr><th scope=row>18065</th><td>祈福辉煌台       </td><td>3室2厅           </td><td>109.00           </td><td>东南             </td><td>低楼层           </td><td>其他             </td><td>铁路西           </td><td>235.0            </td><td>21560            </td><td>花都             </td></tr>\n",
       "\t<tr><th scope=row>18066</th><td>祈福辉煌台       </td><td>3室2厅           </td><td>101.00           </td><td>南               </td><td>高楼层           </td><td>2008             </td><td>铁路西           </td><td>198.0            </td><td>19604            </td><td>花都             </td></tr>\n",
       "\t<tr><th scope=row>18069</th><td>大运家园         </td><td>3室2厅           </td><td>139.41           </td><td>南 北            </td><td>低楼层           </td><td>2009             </td><td>旧区             </td><td>380.0            </td><td>27258            </td><td>花都             </td></tr>\n",
       "\t<tr><th scope=row>18072</th><td>优山美墅         </td><td>3室2厅           </td><td> 90.89           </td><td>北               </td><td>低楼层           </td><td>其他             </td><td>金洲             </td><td>155.0            </td><td>17054            </td><td>南沙             </td></tr>\n",
       "\t<tr><th scope=row>18074</th><td>丰庭花园         </td><td>3室2厅           </td><td> 89.98           </td><td>北               </td><td>中楼层           </td><td>其他             </td><td>金洲             </td><td>205.0            </td><td>22783            </td><td>南沙             </td></tr>\n",
       "\t<tr><th scope=row>18077</th><td>大岗翡翠蓝湾北区 </td><td>3室2厅           </td><td> 85.27           </td><td>南               </td><td>低楼层           </td><td>其他             </td><td>大岗镇           </td><td>140.0            </td><td>16419            </td><td>南沙             </td></tr>\n",
       "\t<tr><th scope=row>18081</th><td>凯德新玥         </td><td>3室2厅           </td><td> 86.00           </td><td>南               </td><td>低楼层           </td><td>其他             </td><td>榄核镇           </td><td>143.0            </td><td>16628            </td><td>南沙             </td></tr>\n",
       "\t<tr><th scope=row>18082</th><td>辉达楼           </td><td>3室2厅           </td><td>158.00           </td><td>南 北            </td><td>高楼层           </td><td>其他             </td><td>大岗镇           </td><td>145.0            </td><td> 9178            </td><td>南沙             </td></tr>\n",
       "\t<tr><th scope=row>18083</th><td>凯德新玥         </td><td>3室2厅           </td><td> 86.00           </td><td>南               </td><td>中楼层           </td><td>其他             </td><td>榄核镇           </td><td>155.0            </td><td>18024            </td><td>南沙             </td></tr>\n",
       "\t<tr><th scope=row>18089</th><td>南沙碧桂园翠畔轩 </td><td>3室2厅           </td><td>116.70           </td><td>南 北            </td><td>高楼层           </td><td>其他             </td><td>金洲             </td><td>235.0            </td><td>20138            </td><td>南沙             </td></tr>\n",
       "\t<tr><th scope=row>18090</th><td>南沙奥园二区     </td><td>3室2厅           </td><td>134.16           </td><td>南               </td><td>低楼层           </td><td>其他             </td><td>金洲             </td><td>300.0            </td><td>22362            </td><td>南沙             </td></tr>\n",
       "\t<tr><th scope=row>18094</th><td>碧桂园天玺湾     </td><td>3室2厅           </td><td>104.64           </td><td>南               </td><td>中楼层           </td><td>2015             </td><td>金洲             </td><td>248.0            </td><td>23701            </td><td>南沙             </td></tr>\n",
       "\t<tr><th scope=row>18095</th><td>南沙珠江湾       </td><td>3室2厅           </td><td>134.00           </td><td>南               </td><td>高楼层           </td><td>其他             </td><td>金洲             </td><td>315.0            </td><td>23508            </td><td>南沙             </td></tr>\n",
       "\t<tr><th scope=row>18097</th><td>南沙碧桂园倚荔轩 </td><td>3室2厅           </td><td>110.11           </td><td>东               </td><td>低楼层           </td><td>其他             </td><td>金洲             </td><td>220.0            </td><td>19981            </td><td>南沙             </td></tr>\n",
       "\t<tr><th scope=row>18098</th><td>优山美墅         </td><td>3室2厅           </td><td>146.94           </td><td>南               </td><td>中楼层           </td><td>其他             </td><td>金洲             </td><td>285.0            </td><td>19396            </td><td>南沙             </td></tr>\n",
       "</tbody>\n",
       "</table>\n"
      ],
      "text/latex": [
       "\\begin{tabular}{r|llllllllll}\n",
       "  & houseName & roomType & area & toward & floor & year & address & price & unitPrice & region\\\\\n",
       "\\hline\n",
       "\t1 & 穗园小区                & 3室2厅                  &  96.34                  & 东南                    & 低楼层                  & 2000                    & 天润路                  &  580                    & 60204                   & 天河                   \\\\\n",
       "\t2 & 骏景花园                & 3室2厅                  & 104.00                  & 南 北                   & 低楼层                  & 2003                    & 棠下                    &  505                    & 48558                   & 天河                   \\\\\n",
       "\t3 & 方圆月岛                & 3室2厅                  & 132.50                  & 南                      & 低楼层                  & 2009                    & 珠江新城中              & 1150                    & 86793                   & 天河                   \\\\\n",
       "\t6 & 华景新城翠安侬苑        & 3室2厅                  & 109.88                  & 南                      & 高楼层                  & 2002                    & 华景新城                &  625                    & 56881                   & 天河                   \\\\\n",
       "\t7 & 华景新城信华花园        & 3室2厅                  & 109.00                  & 西南                    & 中楼层                  & 2012                    & 华景新城                &  670                    & 61468                   & 天河                   \\\\\n",
       "\t14 & 华景新城信华花园        & 3室2厅                  & 104.00                  & 西南                    & 中楼层                  & 2012                    & 华景新城                &  620                    & 59616                   & 天河                   \\\\\n",
       "\t16 & 金燕花园                & 3室2厅                  & 103.00                  & 东                      & 低楼层                  & 2004                    & 粤垦                    &  415                    & 40292                   & 天河                   \\\\\n",
       "\t17 & 侨林苑三期              & 3室2厅                  & 106.12                  & 东南                    & 中楼层                  & 2003                    & 天河北                  &  900                    & 84810                   & 天河                   \\\\\n",
       "\t18 & 穗园小区                & 3室2厅                  & 103.00                  & 南 北                   & 低楼层                  & 2000                    & 天润路                  &  550                    & 53399                   & 天河                   \\\\\n",
       "\t24 & 天河东远洋宿舍天河东路  & 3室2厅                  & 106.00                  & 北                      & 高楼层                  & 1990                    & 体育中心                &  689                    & 65000                   & 天河                   \\\\\n",
       "\t26 & 嘉宝华庭                & 3室2厅                  & 109.52                  & 东 西                   & 高楼层                  & 2008                    & 龙口西                  &  700                    & 63916                   & 天河                   \\\\\n",
       "\t27 & 芳草园                  & 3室2厅                  & 117.05                  & 北                      & 高楼层                  & 2004                    & 天河北                  &  840                    & 71765                   & 天河                   \\\\\n",
       "\t28 & 旭景家园D区             & 3室2厅                  &  91.00                  & 南                      & 低楼层                  & 2002                    & 东圃                    &  355                    & 39011                   & 天河                   \\\\\n",
       "\t29 & 华江花园                & 3室2厅                  & 128.49                  & 南                      & 高楼层                  & 1999                    & 天河公园                &  590                    & 45918                   & 天河                   \\\\\n",
       "\t33 & 华景新城陶然庭园        & 3室2厅                  &  92.18                  & 南                      & 低楼层                  & 2007                    & 华景新城                &  580                    & 62921                   & 天河                   \\\\\n",
       "\t34 & 金田花苑                & 3室2厅                  & 126.63                  & 北                      & 高楼层                  & 1997                    & 天河北                  &  580                    & 45803                   & 天河                   \\\\\n",
       "\t35 & 金田花苑                & 3室2厅                  & 120.00                  & 北                      & 中楼层                  & 1997                    & 天河北                  &  680                    & 56667                   & 天河                   \\\\\n",
       "\t38 & 骏景花园                & 3室2厅                  & 103.00                  & 南                      & 中楼层                  & 2000                    & 棠下                    &  545                    & 52913                   & 天河                   \\\\\n",
       "\t41 & 橡树园                  & 3室2厅                  &  90.81                  & 东南                    & 高楼层                  & 2006                    & 沙太南                  &  360                    & 39644                   & 天河                   \\\\\n",
       "\t43 & 天力居                  & 3室2厅                  &  64.00                  & 南                      & 高楼层                  & 1998                    & 东圃                    &  268                    & 41875                   & 天河                   \\\\\n",
       "\t48 & 中怡城市花园            & 3室2厅                  & 129.51                  & 南                      & 高楼层                  & 2004                    & 天河北                  & 1050                    & 81075                   & 天河                   \\\\\n",
       "\t49 & 跑马地花园              & 3室2厅                  & 104.50                  & 东                      & 高楼层                  & 1999                    & 珠江新城东              &  611                    & 58469                   & 天河                   \\\\\n",
       "\t50 & 赛拉维                  & 3室2厅                  & 113.25                  & 东 西                   & 高楼层                  & 2002                    & 员村                    &  570                    & 50332                   & 天河                   \\\\\n",
       "\t51 & 金燕花园                & 3室2厅                  &  82.00                  & 南                      & 低楼层                  & 2004                    & 粤垦                    &  338                    & 41220                   & 天河                   \\\\\n",
       "\t55 & 华景新城翠安侬苑        & 3室2厅                  & 114.00                  & 南                      & 高楼层                  & 2002                    & 华景新城                &  750                    & 65790                   & 天河                   \\\\\n",
       "\t56 & 半山雍景苑              & 3室2厅                  &  85.36                  & 东北                    & 中楼层                  & 2000                    & 五山                    &  430                    & 50375                   & 天河                   \\\\\n",
       "\t60 & 骏景花园                & 3室2厅                  &  80.65                  & 北                      & 中楼层                  & 2000                    & 棠下                    &  400                    & 49598                   & 天河                   \\\\\n",
       "\t63 & 赛拉维                  & 3室2厅                  & 107.57                  & 西南                    & 低楼层                  & 2006                    & 员村                    &  556                    & 51688                   & 天河                   \\\\\n",
       "\t64 & 华景新城信华花园        & 3室2厅                  &  90.48                  & 西北                    & 中楼层                  & 2012                    & 华景新城                &  540                    & 59682                   & 天河                   \\\\\n",
       "\t66 & 汇峰苑                  & 3室2厅                  & 136.00                  & 北                      & 高楼层                  & 2008                    & 珠江新城中              & 1300                    & 95589                   & 天河                   \\\\\n",
       "\t... & ... & ... & ... & ... & ... & ... & ... & ... & ... & ...\\\\\n",
       "\t18031 & 雅居乐雍华廷      & 3室2厅            & 141.31            & 南 北             & 低楼层            & 2002              & 旧区              & 395.7             & 28001             & 花都             \\\\\n",
       "\t18032 & 宝铼雅居          & 3室2厅            & 110.00            & 南                & 低楼层            & 2013              & 铁路西            & 230.0             & 20910             & 花都             \\\\\n",
       "\t18035 & 保利花城花园      & 3室2厅            & 122.17            & 北                & 高楼层            & 2013              & 旧区              & 317.7             & 26000             & 花都             \\\\\n",
       "\t18038 & 南华时代城        & 3室2厅            & 116.00            & 南                & 低楼层            & 2010              & 铁路西            & 255.0             & 21983             & 花都             \\\\\n",
       "\t18039 & 南华时代城        & 3室2厅            & 116.20            & 南 北             & 中楼层            & 2010              & 铁路西            & 249.8             & 21498             & 花都             \\\\\n",
       "\t18040 & 祈福生活无限      & 3室2厅            &  89.00            & 南                & 中楼层            & 2010              & 旧区              & 275.0             & 30899             & 花都             \\\\\n",
       "\t18041 & 祈福生活无限      & 3室2厅            &  89.62            & 东南              & 中楼层            & 2010              & 旧区              & 300.0             & 33475             & 花都             \\\\\n",
       "\t18043 & 锦尚名苑          & 3室2厅            & 129.50            & 南 北             & 高楼层            & 2005              & 旧区              & 272.0             & 21000             & 花都             \\\\\n",
       "\t18044 & 雅宝新城          & 3室2厅            & 116.65            & 东南              & 低楼层            & 其他              & 新区              & 210.0             & 18003             & 花都             \\\\\n",
       "\t18046 & 富力金港城        & 3室2厅            &  99.57            & 北                & 高楼层            & 2013              & 花东镇            & 160.0             & 16070             & 花都             \\\\\n",
       "\t18047 & 富力金港城        & 3室2厅            & 108.00            & 南                & 高楼层            & 其他              & 花东镇            & 130.0             & 12038             & 花都             \\\\\n",
       "\t18057 & 馨庭花园          & 3室2厅            & 124.00            & 东                & 中楼层            & 2006              & 旧区              & 273.0             & 22017             & 花都             \\\\\n",
       "\t18061 & 翠华花园          & 3室2厅            & 105.72            & 北                & 低楼层            & 2006              & 铁路西            & 175.0             & 16554             & 花都             \\\\\n",
       "\t18063 & 万科天景花园      & 3室2厅            & 122.00            & 东南              & 低楼层            & 2006              & 铁路西            & 300.0             & 24591             & 花都             \\\\\n",
       "\t18064 & 南航花园          & 3室2厅            & 126.00            & 南                & 高楼层            & 2002              & 旧区              & 365.4             & 29000             & 花都             \\\\\n",
       "\t18065 & 祈福辉煌台        & 3室2厅            & 109.00            & 东南              & 低楼层            & 其他              & 铁路西            & 235.0             & 21560             & 花都             \\\\\n",
       "\t18066 & 祈福辉煌台        & 3室2厅            & 101.00            & 南                & 高楼层            & 2008              & 铁路西            & 198.0             & 19604             & 花都             \\\\\n",
       "\t18069 & 大运家园          & 3室2厅            & 139.41            & 南 北             & 低楼层            & 2009              & 旧区              & 380.0             & 27258             & 花都             \\\\\n",
       "\t18072 & 优山美墅          & 3室2厅            &  90.89            & 北                & 低楼层            & 其他              & 金洲              & 155.0             & 17054             & 南沙             \\\\\n",
       "\t18074 & 丰庭花园          & 3室2厅            &  89.98            & 北                & 中楼层            & 其他              & 金洲              & 205.0             & 22783             & 南沙             \\\\\n",
       "\t18077 & 大岗翡翠蓝湾北区  & 3室2厅            &  85.27            & 南                & 低楼层            & 其他              & 大岗镇            & 140.0             & 16419             & 南沙             \\\\\n",
       "\t18081 & 凯德新玥          & 3室2厅            &  86.00            & 南                & 低楼层            & 其他              & 榄核镇            & 143.0             & 16628             & 南沙             \\\\\n",
       "\t18082 & 辉达楼            & 3室2厅            & 158.00            & 南 北             & 高楼层            & 其他              & 大岗镇            & 145.0             &  9178             & 南沙             \\\\\n",
       "\t18083 & 凯德新玥          & 3室2厅            &  86.00            & 南                & 中楼层            & 其他              & 榄核镇            & 155.0             & 18024             & 南沙             \\\\\n",
       "\t18089 & 南沙碧桂园翠畔轩  & 3室2厅            & 116.70            & 南 北             & 高楼层            & 其他              & 金洲              & 235.0             & 20138             & 南沙             \\\\\n",
       "\t18090 & 南沙奥园二区      & 3室2厅            & 134.16            & 南                & 低楼层            & 其他              & 金洲              & 300.0             & 22362             & 南沙             \\\\\n",
       "\t18094 & 碧桂园天玺湾      & 3室2厅            & 104.64            & 南                & 中楼层            & 2015              & 金洲              & 248.0             & 23701             & 南沙             \\\\\n",
       "\t18095 & 南沙珠江湾        & 3室2厅            & 134.00            & 南                & 高楼层            & 其他              & 金洲              & 315.0             & 23508             & 南沙             \\\\\n",
       "\t18097 & 南沙碧桂园倚荔轩  & 3室2厅            & 110.11            & 东                & 低楼层            & 其他              & 金洲              & 220.0             & 19981             & 南沙             \\\\\n",
       "\t18098 & 优山美墅          & 3室2厅            & 146.94            & 南                & 中楼层            & 其他              & 金洲              & 285.0             & 19396             & 南沙             \\\\\n",
       "\\end{tabular}\n"
      ],
      "text/markdown": [
       "\n",
       "| <!--/--> | houseName | roomType | area | toward | floor | year | address | price | unitPrice | region | \n",
       "|---|---|---|---|---|---|---|---|---|---|---|---|---|---|---|---|---|---|---|---|---|---|---|---|---|---|---|---|---|---|---|---|---|---|---|---|---|---|---|---|---|---|---|---|---|---|---|---|---|---|---|---|---|---|---|---|---|---|---|---|---|\n",
       "| 1 | 穗园小区                | 3室2厅                  |  96.34                  | 东南                    | 低楼层                  | 2000                    | 天润路                  |  580                    | 60204                   | 天河                    | \n",
       "| 2 | 骏景花园                | 3室2厅                  | 104.00                  | 南 北                   | 低楼层                  | 2003                    | 棠下                    |  505                    | 48558                   | 天河                    | \n",
       "| 3 | 方圆月岛                | 3室2厅                  | 132.50                  | 南                      | 低楼层                  | 2009                    | 珠江新城中              | 1150                    | 86793                   | 天河                    | \n",
       "| 6 | 华景新城翠安侬苑        | 3室2厅                  | 109.88                  | 南                      | 高楼层                  | 2002                    | 华景新城                |  625                    | 56881                   | 天河                    | \n",
       "| 7 | 华景新城信华花园        | 3室2厅                  | 109.00                  | 西南                    | 中楼层                  | 2012                    | 华景新城                |  670                    | 61468                   | 天河                    | \n",
       "| 14 | 华景新城信华花园        | 3室2厅                  | 104.00                  | 西南                    | 中楼层                  | 2012                    | 华景新城                |  620                    | 59616                   | 天河                    | \n",
       "| 16 | 金燕花园                | 3室2厅                  | 103.00                  | 东                      | 低楼层                  | 2004                    | 粤垦                    |  415                    | 40292                   | 天河                    | \n",
       "| 17 | 侨林苑三期              | 3室2厅                  | 106.12                  | 东南                    | 中楼层                  | 2003                    | 天河北                  |  900                    | 84810                   | 天河                    | \n",
       "| 18 | 穗园小区                | 3室2厅                  | 103.00                  | 南 北                   | 低楼层                  | 2000                    | 天润路                  |  550                    | 53399                   | 天河                    | \n",
       "| 24 | 天河东远洋宿舍天河东路  | 3室2厅                  | 106.00                  | 北                      | 高楼层                  | 1990                    | 体育中心                |  689                    | 65000                   | 天河                    | \n",
       "| 26 | 嘉宝华庭                | 3室2厅                  | 109.52                  | 东 西                   | 高楼层                  | 2008                    | 龙口西                  |  700                    | 63916                   | 天河                    | \n",
       "| 27 | 芳草园                  | 3室2厅                  | 117.05                  | 北                      | 高楼层                  | 2004                    | 天河北                  |  840                    | 71765                   | 天河                    | \n",
       "| 28 | 旭景家园D区             | 3室2厅                  |  91.00                  | 南                      | 低楼层                  | 2002                    | 东圃                    |  355                    | 39011                   | 天河                    | \n",
       "| 29 | 华江花园                | 3室2厅                  | 128.49                  | 南                      | 高楼层                  | 1999                    | 天河公园                |  590                    | 45918                   | 天河                    | \n",
       "| 33 | 华景新城陶然庭园        | 3室2厅                  |  92.18                  | 南                      | 低楼层                  | 2007                    | 华景新城                |  580                    | 62921                   | 天河                    | \n",
       "| 34 | 金田花苑                | 3室2厅                  | 126.63                  | 北                      | 高楼层                  | 1997                    | 天河北                  |  580                    | 45803                   | 天河                    | \n",
       "| 35 | 金田花苑                | 3室2厅                  | 120.00                  | 北                      | 中楼层                  | 1997                    | 天河北                  |  680                    | 56667                   | 天河                    | \n",
       "| 38 | 骏景花园                | 3室2厅                  | 103.00                  | 南                      | 中楼层                  | 2000                    | 棠下                    |  545                    | 52913                   | 天河                    | \n",
       "| 41 | 橡树园                  | 3室2厅                  |  90.81                  | 东南                    | 高楼层                  | 2006                    | 沙太南                  |  360                    | 39644                   | 天河                    | \n",
       "| 43 | 天力居                  | 3室2厅                  |  64.00                  | 南                      | 高楼层                  | 1998                    | 东圃                    |  268                    | 41875                   | 天河                    | \n",
       "| 48 | 中怡城市花园            | 3室2厅                  | 129.51                  | 南                      | 高楼层                  | 2004                    | 天河北                  | 1050                    | 81075                   | 天河                    | \n",
       "| 49 | 跑马地花园              | 3室2厅                  | 104.50                  | 东                      | 高楼层                  | 1999                    | 珠江新城东              |  611                    | 58469                   | 天河                    | \n",
       "| 50 | 赛拉维                  | 3室2厅                  | 113.25                  | 东 西                   | 高楼层                  | 2002                    | 员村                    |  570                    | 50332                   | 天河                    | \n",
       "| 51 | 金燕花园                | 3室2厅                  |  82.00                  | 南                      | 低楼层                  | 2004                    | 粤垦                    |  338                    | 41220                   | 天河                    | \n",
       "| 55 | 华景新城翠安侬苑        | 3室2厅                  | 114.00                  | 南                      | 高楼层                  | 2002                    | 华景新城                |  750                    | 65790                   | 天河                    | \n",
       "| 56 | 半山雍景苑              | 3室2厅                  |  85.36                  | 东北                    | 中楼层                  | 2000                    | 五山                    |  430                    | 50375                   | 天河                    | \n",
       "| 60 | 骏景花园                | 3室2厅                  |  80.65                  | 北                      | 中楼层                  | 2000                    | 棠下                    |  400                    | 49598                   | 天河                    | \n",
       "| 63 | 赛拉维                  | 3室2厅                  | 107.57                  | 西南                    | 低楼层                  | 2006                    | 员村                    |  556                    | 51688                   | 天河                    | \n",
       "| 64 | 华景新城信华花园        | 3室2厅                  |  90.48                  | 西北                    | 中楼层                  | 2012                    | 华景新城                |  540                    | 59682                   | 天河                    | \n",
       "| 66 | 汇峰苑                  | 3室2厅                  | 136.00                  | 北                      | 高楼层                  | 2008                    | 珠江新城中              | 1300                    | 95589                   | 天河                    | \n",
       "| ... | ... | ... | ... | ... | ... | ... | ... | ... | ... | ... | \n",
       "| 18031 | 雅居乐雍华廷      | 3室2厅            | 141.31            | 南 北             | 低楼层            | 2002              | 旧区              | 395.7             | 28001             | 花都              | \n",
       "| 18032 | 宝铼雅居          | 3室2厅            | 110.00            | 南                | 低楼层            | 2013              | 铁路西            | 230.0             | 20910             | 花都              | \n",
       "| 18035 | 保利花城花园      | 3室2厅            | 122.17            | 北                | 高楼层            | 2013              | 旧区              | 317.7             | 26000             | 花都              | \n",
       "| 18038 | 南华时代城        | 3室2厅            | 116.00            | 南                | 低楼层            | 2010              | 铁路西            | 255.0             | 21983             | 花都              | \n",
       "| 18039 | 南华时代城        | 3室2厅            | 116.20            | 南 北             | 中楼层            | 2010              | 铁路西            | 249.8             | 21498             | 花都              | \n",
       "| 18040 | 祈福生活无限      | 3室2厅            |  89.00            | 南                | 中楼层            | 2010              | 旧区              | 275.0             | 30899             | 花都              | \n",
       "| 18041 | 祈福生活无限      | 3室2厅            |  89.62            | 东南              | 中楼层            | 2010              | 旧区              | 300.0             | 33475             | 花都              | \n",
       "| 18043 | 锦尚名苑          | 3室2厅            | 129.50            | 南 北             | 高楼层            | 2005              | 旧区              | 272.0             | 21000             | 花都              | \n",
       "| 18044 | 雅宝新城          | 3室2厅            | 116.65            | 东南              | 低楼层            | 其他              | 新区              | 210.0             | 18003             | 花都              | \n",
       "| 18046 | 富力金港城        | 3室2厅            |  99.57            | 北                | 高楼层            | 2013              | 花东镇            | 160.0             | 16070             | 花都              | \n",
       "| 18047 | 富力金港城        | 3室2厅            | 108.00            | 南                | 高楼层            | 其他              | 花东镇            | 130.0             | 12038             | 花都              | \n",
       "| 18057 | 馨庭花园          | 3室2厅            | 124.00            | 东                | 中楼层            | 2006              | 旧区              | 273.0             | 22017             | 花都              | \n",
       "| 18061 | 翠华花园          | 3室2厅            | 105.72            | 北                | 低楼层            | 2006              | 铁路西            | 175.0             | 16554             | 花都              | \n",
       "| 18063 | 万科天景花园      | 3室2厅            | 122.00            | 东南              | 低楼层            | 2006              | 铁路西            | 300.0             | 24591             | 花都              | \n",
       "| 18064 | 南航花园          | 3室2厅            | 126.00            | 南                | 高楼层            | 2002              | 旧区              | 365.4             | 29000             | 花都              | \n",
       "| 18065 | 祈福辉煌台        | 3室2厅            | 109.00            | 东南              | 低楼层            | 其他              | 铁路西            | 235.0             | 21560             | 花都              | \n",
       "| 18066 | 祈福辉煌台        | 3室2厅            | 101.00            | 南                | 高楼层            | 2008              | 铁路西            | 198.0             | 19604             | 花都              | \n",
       "| 18069 | 大运家园          | 3室2厅            | 139.41            | 南 北             | 低楼层            | 2009              | 旧区              | 380.0             | 27258             | 花都              | \n",
       "| 18072 | 优山美墅          | 3室2厅            |  90.89            | 北                | 低楼层            | 其他              | 金洲              | 155.0             | 17054             | 南沙              | \n",
       "| 18074 | 丰庭花园          | 3室2厅            |  89.98            | 北                | 中楼层            | 其他              | 金洲              | 205.0             | 22783             | 南沙              | \n",
       "| 18077 | 大岗翡翠蓝湾北区  | 3室2厅            |  85.27            | 南                | 低楼层            | 其他              | 大岗镇            | 140.0             | 16419             | 南沙              | \n",
       "| 18081 | 凯德新玥          | 3室2厅            |  86.00            | 南                | 低楼层            | 其他              | 榄核镇            | 143.0             | 16628             | 南沙              | \n",
       "| 18082 | 辉达楼            | 3室2厅            | 158.00            | 南 北             | 高楼层            | 其他              | 大岗镇            | 145.0             |  9178             | 南沙              | \n",
       "| 18083 | 凯德新玥          | 3室2厅            |  86.00            | 南                | 中楼层            | 其他              | 榄核镇            | 155.0             | 18024             | 南沙              | \n",
       "| 18089 | 南沙碧桂园翠畔轩  | 3室2厅            | 116.70            | 南 北             | 高楼层            | 其他              | 金洲              | 235.0             | 20138             | 南沙              | \n",
       "| 18090 | 南沙奥园二区      | 3室2厅            | 134.16            | 南                | 低楼层            | 其他              | 金洲              | 300.0             | 22362             | 南沙              | \n",
       "| 18094 | 碧桂园天玺湾      | 3室2厅            | 104.64            | 南                | 中楼层            | 2015              | 金洲              | 248.0             | 23701             | 南沙              | \n",
       "| 18095 | 南沙珠江湾        | 3室2厅            | 134.00            | 南                | 高楼层            | 其他              | 金洲              | 315.0             | 23508             | 南沙              | \n",
       "| 18097 | 南沙碧桂园倚荔轩  | 3室2厅            | 110.11            | 东                | 低楼层            | 其他              | 金洲              | 220.0             | 19981             | 南沙              | \n",
       "| 18098 | 优山美墅          | 3室2厅            | 146.94            | 南                | 中楼层            | 其他              | 金洲              | 285.0             | 19396             | 南沙              | \n",
       "\n",
       "\n"
      ],
      "text/plain": [
       "      houseName               roomType area   toward floor  year address   \n",
       "1     穗园小区                3室2厅    96.34 东南   低楼层 2000 天润路    \n",
       "2     骏景花园                3室2厅   104.00 南 北  低楼层 2003 棠下      \n",
       "3     方圆月岛                3室2厅   132.50 南     低楼层 2009 珠江新城中\n",
       "6     华景新城翠安侬苑        3室2厅   109.88 南     高楼层 2002 华景新城  \n",
       "7     华景新城信华花园        3室2厅   109.00 西南   中楼层 2012 华景新城  \n",
       "14    华景新城信华花园        3室2厅   104.00 西南   中楼层 2012 华景新城  \n",
       "16    金燕花园                3室2厅   103.00 东     低楼层 2004 粤垦      \n",
       "17    侨林苑三期              3室2厅   106.12 东南   中楼层 2003 天河北    \n",
       "18    穗园小区                3室2厅   103.00 南 北  低楼层 2000 天润路    \n",
       "24    天河东远洋宿舍天河东路  3室2厅   106.00 北     高楼层 1990 体育中心  \n",
       "26    嘉宝华庭                3室2厅   109.52 东 西  高楼层 2008 龙口西    \n",
       "27    芳草园                  3室2厅   117.05 北     高楼层 2004 天河北    \n",
       "28    旭景家园D区             3室2厅    91.00 南     低楼层 2002 东圃      \n",
       "29    华江花园                3室2厅   128.49 南     高楼层 1999 天河公园  \n",
       "33    华景新城陶然庭园        3室2厅    92.18 南     低楼层 2007 华景新城  \n",
       "34    金田花苑                3室2厅   126.63 北     高楼层 1997 天河北    \n",
       "35    金田花苑                3室2厅   120.00 北     中楼层 1997 天河北    \n",
       "38    骏景花园                3室2厅   103.00 南     中楼层 2000 棠下      \n",
       "41    橡树园                  3室2厅    90.81 东南   高楼层 2006 沙太南    \n",
       "43    天力居                  3室2厅    64.00 南     高楼层 1998 东圃      \n",
       "48    中怡城市花园            3室2厅   129.51 南     高楼层 2004 天河北    \n",
       "49    跑马地花园              3室2厅   104.50 东     高楼层 1999 珠江新城东\n",
       "50    赛拉维                  3室2厅   113.25 东 西  高楼层 2002 员村      \n",
       "51    金燕花园                3室2厅    82.00 南     低楼层 2004 粤垦      \n",
       "55    华景新城翠安侬苑        3室2厅   114.00 南     高楼层 2002 华景新城  \n",
       "56    半山雍景苑              3室2厅    85.36 东北   中楼层 2000 五山      \n",
       "60    骏景花园                3室2厅    80.65 北     中楼层 2000 棠下      \n",
       "63    赛拉维                  3室2厅   107.57 西南   低楼层 2006 员村      \n",
       "64    华景新城信华花园        3室2厅    90.48 西北   中楼层 2012 华景新城  \n",
       "66    汇峰苑                  3室2厅   136.00 北     高楼层 2008 珠江新城中\n",
       "...   ...                     ...      ...    ...    ...    ...  ...       \n",
       "18031 雅居乐雍华廷            3室2厅   141.31 南 北  低楼层 2002 旧区      \n",
       "18032 宝铼雅居                3室2厅   110.00 南     低楼层 2013 铁路西    \n",
       "18035 保利花城花园            3室2厅   122.17 北     高楼层 2013 旧区      \n",
       "18038 南华时代城              3室2厅   116.00 南     低楼层 2010 铁路西    \n",
       "18039 南华时代城              3室2厅   116.20 南 北  中楼层 2010 铁路西    \n",
       "18040 祈福生活无限            3室2厅    89.00 南     中楼层 2010 旧区      \n",
       "18041 祈福生活无限            3室2厅    89.62 东南   中楼层 2010 旧区      \n",
       "18043 锦尚名苑                3室2厅   129.50 南 北  高楼层 2005 旧区      \n",
       "18044 雅宝新城                3室2厅   116.65 东南   低楼层 其他 新区      \n",
       "18046 富力金港城              3室2厅    99.57 北     高楼层 2013 花东镇    \n",
       "18047 富力金港城              3室2厅   108.00 南     高楼层 其他 花东镇    \n",
       "18057 馨庭花园                3室2厅   124.00 东     中楼层 2006 旧区      \n",
       "18061 翠华花园                3室2厅   105.72 北     低楼层 2006 铁路西    \n",
       "18063 万科天景花园            3室2厅   122.00 东南   低楼层 2006 铁路西    \n",
       "18064 南航花园                3室2厅   126.00 南     高楼层 2002 旧区      \n",
       "18065 祈福辉煌台              3室2厅   109.00 东南   低楼层 其他 铁路西    \n",
       "18066 祈福辉煌台              3室2厅   101.00 南     高楼层 2008 铁路西    \n",
       "18069 大运家园                3室2厅   139.41 南 北  低楼层 2009 旧区      \n",
       "18072 优山美墅                3室2厅    90.89 北     低楼层 其他 金洲      \n",
       "18074 丰庭花园                3室2厅    89.98 北     中楼层 其他 金洲      \n",
       "18077 大岗翡翠蓝湾北区        3室2厅    85.27 南     低楼层 其他 大岗镇    \n",
       "18081 凯德新玥                3室2厅    86.00 南     低楼层 其他 榄核镇    \n",
       "18082 辉达楼                  3室2厅   158.00 南 北  高楼层 其他 大岗镇    \n",
       "18083 凯德新玥                3室2厅    86.00 南     中楼层 其他 榄核镇    \n",
       "18089 南沙碧桂园翠畔轩        3室2厅   116.70 南 北  高楼层 其他 金洲      \n",
       "18090 南沙奥园二区            3室2厅   134.16 南     低楼层 其他 金洲      \n",
       "18094 碧桂园天玺湾            3室2厅   104.64 南     中楼层 2015 金洲      \n",
       "18095 南沙珠江湾              3室2厅   134.00 南     高楼层 其他 金洲      \n",
       "18097 南沙碧桂园倚荔轩        3室2厅   110.11 东     低楼层 其他 金洲      \n",
       "18098 优山美墅                3室2厅   146.94 南     中楼层 其他 金洲      \n",
       "      price unitPrice region\n",
       "1      580  60204     天河  \n",
       "2      505  48558     天河  \n",
       "3     1150  86793     天河  \n",
       "6      625  56881     天河  \n",
       "7      670  61468     天河  \n",
       "14     620  59616     天河  \n",
       "16     415  40292     天河  \n",
       "17     900  84810     天河  \n",
       "18     550  53399     天河  \n",
       "24     689  65000     天河  \n",
       "26     700  63916     天河  \n",
       "27     840  71765     天河  \n",
       "28     355  39011     天河  \n",
       "29     590  45918     天河  \n",
       "33     580  62921     天河  \n",
       "34     580  45803     天河  \n",
       "35     680  56667     天河  \n",
       "38     545  52913     天河  \n",
       "41     360  39644     天河  \n",
       "43     268  41875     天河  \n",
       "48    1050  81075     天河  \n",
       "49     611  58469     天河  \n",
       "50     570  50332     天河  \n",
       "51     338  41220     天河  \n",
       "55     750  65790     天河  \n",
       "56     430  50375     天河  \n",
       "60     400  49598     天河  \n",
       "63     556  51688     天河  \n",
       "64     540  59682     天河  \n",
       "66    1300  95589     天河  \n",
       "...   ...   ...       ...   \n",
       "18031 395.7 28001     花都  \n",
       "18032 230.0 20910     花都  \n",
       "18035 317.7 26000     花都  \n",
       "18038 255.0 21983     花都  \n",
       "18039 249.8 21498     花都  \n",
       "18040 275.0 30899     花都  \n",
       "18041 300.0 33475     花都  \n",
       "18043 272.0 21000     花都  \n",
       "18044 210.0 18003     花都  \n",
       "18046 160.0 16070     花都  \n",
       "18047 130.0 12038     花都  \n",
       "18057 273.0 22017     花都  \n",
       "18061 175.0 16554     花都  \n",
       "18063 300.0 24591     花都  \n",
       "18064 365.4 29000     花都  \n",
       "18065 235.0 21560     花都  \n",
       "18066 198.0 19604     花都  \n",
       "18069 380.0 27258     花都  \n",
       "18072 155.0 17054     南沙  \n",
       "18074 205.0 22783     南沙  \n",
       "18077 140.0 16419     南沙  \n",
       "18081 143.0 16628     南沙  \n",
       "18082 145.0  9178     南沙  \n",
       "18083 155.0 18024     南沙  \n",
       "18089 235.0 20138     南沙  \n",
       "18090 300.0 22362     南沙  \n",
       "18094 248.0 23701     南沙  \n",
       "18095 315.0 23508     南沙  \n",
       "18097 220.0 19981     南沙  \n",
       "18098 285.0 19396     南沙  "
      ]
     },
     "metadata": {},
     "output_type": "display_data"
    }
   ],
   "source": [
    "data[which(data$roomType==\"3室2厅\"),] "
   ]
  },
  {
   "cell_type": "code",
   "execution_count": 128,
   "metadata": {},
   "outputs": [
    {
     "name": "stderr",
     "output_type": "stream",
     "text": [
      "Warning message:\n",
      "\"position_dodge requires non-overlapping x intervals\""
     ]
    },
    {
     "data": {},
     "metadata": {},
     "output_type": "display_data"
    },
    {
     "data": {
      "image/png": "[encoded data removed]",
      "text/plain": [
       "plot without title"
      ]
     },
     "metadata": {},
     "output_type": "display_data"
    }
   ],
   "source": [
    "ggplot(data,aes(area))+\n",
    "  geom_bar(stat = 'count',position = 'dodge', width = 8, fill = '#006699')+\n",
    "  ggtitle('二手房面积分布')+\n",
    "  theme(plot.title = element_text(hjust = 0.5),legend.position = \"bottom\")"
   ]
  },
  {
   "cell_type": "code",
   "execution_count": 129,
   "metadata": {},
   "outputs": [
    {
     "data": {
      "text/plain": [
       "   Min. 1st Qu.  Median    Mean 3rd Qu.    Max. \n",
       "   7.76   69.44   86.48   92.06  106.00 1055.98 "
      ]
     },
     "metadata": {},
     "output_type": "display_data"
    }
   ],
   "source": [
    "summary(data$area)"
   ]
  },
  {
   "cell_type": "code",
   "execution_count": 130,
   "metadata": {},
   "outputs": [
    {
     "data": {},
     "metadata": {},
     "output_type": "display_data"
    },
    {
     "data": {
      "image/png": "[encoded data removed]",
      "text/plain": [
       "plot without title"
      ]
     },
     "metadata": {},
     "output_type": "display_data"
    }
   ],
   "source": [
    "ggplot(data,aes(toward))+\n",
    "  geom_bar(stat = 'count',position = 'dodge', width = 0.8, fill = '#006699')+\n",
    "  geom_text(stat = \"count\",aes(label = ..count..),position = position_stack(vjust = 1.08))"
   ]
  },
  {
   "cell_type": "code",
   "execution_count": 131,
   "metadata": {},
   "outputs": [
    {
     "data": {
      "text/html": [
       "<dl class=dl-horizontal>\n",
       "\t<dt>(Other)</dt>\n",
       "\t\t<dd>852</dd>\n",
       "\t<dt>市桥</dt>\n",
       "\t\t<dd>805</dd>\n",
       "\t<dt>区府</dt>\n",
       "\t\t<dd>706</dd>\n",
       "\t<dt>金碧</dt>\n",
       "\t\t<dd>590</dd>\n",
       "\t<dt>金沙洲</dt>\n",
       "\t\t<dd>540</dd>\n",
       "\t<dt>华南</dt>\n",
       "\t\t<dd>535</dd>\n",
       "\t<dt>凤凰城</dt>\n",
       "\t\t<dd>504</dd>\n",
       "\t<dt>新塘</dt>\n",
       "\t\t<dd>470</dd>\n",
       "\t<dt>白云大道北</dt>\n",
       "\t\t<dd>397</dd>\n",
       "\t<dt>沙湾</dt>\n",
       "\t\t<dd>389</dd>\n",
       "\t<dt>新港西</dt>\n",
       "\t\t<dd>345</dd>\n",
       "\t<dt>同和</dt>\n",
       "\t\t<dd>323</dd>\n",
       "\t<dt>东圃</dt>\n",
       "\t\t<dd>308</dd>\n",
       "\t<dt>天河公园</dt>\n",
       "\t\t<dd>308</dd>\n",
       "\t<dt>南浦</dt>\n",
       "\t\t<dd>298</dd>\n",
       "</dl>\n"
      ],
      "text/latex": [
       "\\begin{description*}\n",
       "\\item[(Other)] 852\n",
       "\\item[市桥] 805\n",
       "\\item[区府] 706\n",
       "\\item[金碧] 590\n",
       "\\item[金沙洲] 540\n",
       "\\item[华南] 535\n",
       "\\item[凤凰城] 504\n",
       "\\item[新塘] 470\n",
       "\\item[白云大道北] 397\n",
       "\\item[沙湾] 389\n",
       "\\item[新港西] 345\n",
       "\\item[同和] 323\n",
       "\\item[东圃] 308\n",
       "\\item[天河公园] 308\n",
       "\\item[南浦] 298\n",
       "\\end{description*}\n"
      ],
      "text/markdown": [
       "(Other)\n",
       ":   852市桥\n",
       ":   805区府\n",
       ":   706金碧\n",
       ":   590金沙洲\n",
       ":   540华南\n",
       ":   535凤凰城\n",
       ":   504新塘\n",
       ":   470白云大道北\n",
       ":   397沙湾\n",
       ":   389新港西\n",
       ":   345同和\n",
       ":   323东圃\n",
       ":   308天河公园\n",
       ":   308南浦\n",
       ":   298\n",
       "\n"
      ],
      "text/plain": [
       "   (Other)       市桥       区府       金碧     金沙洲       华南     凤凰城 \n",
       "       852        805        706        590        540        535        504 \n",
       "      新塘 白云大道北       沙湾     新港西       同和       东圃   天河公园 \n",
       "       470        397        389        345        323        308        308 \n",
       "      南浦 \n",
       "       298 "
      ]
     },
     "metadata": {},
     "output_type": "display_data"
    }
   ],
   "source": [
    "addresstop15 = sort(summary(data$address), decreasing = T)[1:15]\n",
    "addresstop15"
   ]
  },
  {
   "cell_type": "code",
   "execution_count": 132,
   "metadata": {},
   "outputs": [
    {
     "data": {},
     "metadata": {},
     "output_type": "display_data"
    },
    {
     "data": {
      "image/png": "[encoded data removed]",
      "text/plain": [
       "plot without title"
      ]
     },
     "metadata": {},
     "output_type": "display_data"
    }
   ],
   "source": [
    "ggplot(data, aes(floor))+\n",
    "  geom_bar(stat = 'count',position = 'dodge', width = 0.5, fill = '#0099cc')+\n",
    "  geom_text(stat = \"count\",aes(label = ..count..),position = position_stack(vjust = 1.03))+\n",
    "  ggtitle('二手房楼层分布')+\n",
    "  theme(plot.title = element_text(hjust = 0.5),legend.position = \"bottom\")"
   ]
  },
  {
   "cell_type": "code",
   "execution_count": 133,
   "metadata": {},
   "outputs": [
    {
     "data": {},
     "metadata": {},
     "output_type": "display_data"
    },
    {
     "data": {
      "image/png": "[encoded data removed]",
      "text/plain": [
       "plot without title"
      ]
     },
     "metadata": {},
     "output_type": "display_data"
    }
   ],
   "source": [
    "ggplot(data, aes(year))+\n",
    "  geom_bar(stat = 'count', position = 'dodge', width = 0.8, fill = '#FF9999')+\n",
    "  ggtitle('二手房楼龄分布')+\n",
    "  theme(plot.title = element_text(hjust = 0.5),legend.position = \"bottom\")"
   ]
  },
  {
   "cell_type": "code",
   "execution_count": 134,
   "metadata": {},
   "outputs": [
    {
     "name": "stderr",
     "output_type": "stream",
     "text": [
      "Warning message:\n",
      "\"position_dodge requires non-overlapping x intervals\""
     ]
    },
    {
     "data": {},
     "metadata": {},
     "output_type": "display_data"
    },
    {
     "data": {
      "text/plain": [
       "   Min. 1st Qu.  Median    Mean 3rd Qu.    Max. \n",
       "   30.0   225.0   310.0   370.1   450.0  5388.0 "
      ]
     },
     "metadata": {},
     "output_type": "display_data"
    },
    {
     "data": {
      "image/png": "[encoded data removed]",
      "text/plain": [
       "plot without title"
      ]
     },
     "metadata": {},
     "output_type": "display_data"
    }
   ],
   "source": [
    "ggplot(data, aes(price))+\n",
    "  geom_bar(stat = 'count', position = 'dodge', width = 100, fill = '#009966')+\n",
    "  ggtitle('二手房总价格分布')+\n",
    "  theme(plot.title = element_text(hjust = 0.5),legend.position = \"bottom\")\n",
    "summary(data$price)"
   ]
  },
  {
   "cell_type": "code",
   "execution_count": 135,
   "metadata": {},
   "outputs": [
    {
     "name": "stderr",
     "output_type": "stream",
     "text": [
      "Warning message:\n",
      "\"position_dodge requires non-overlapping x intervals\""
     ]
    },
    {
     "data": {},
     "metadata": {},
     "output_type": "display_data"
    },
    {
     "data": {
      "image/png": "[encoded data removed]",
      "text/plain": [
       "plot without title"
      ]
     },
     "metadata": {},
     "output_type": "display_data"
    }
   ],
   "source": [
    "ggplot(data, aes(unitPrice))+\n",
    "  geom_bar(stat = 'count', position = 'dodge', width = 5000, fill = '#009966')+\n",
    "  ggtitle('二手房单价分布')+\n",
    "  theme(plot.title = element_text(hjust = 0.5))"
   ]
  },
  {
   "cell_type": "code",
   "execution_count": 136,
   "metadata": {},
   "outputs": [
    {
     "data": {
      "text/html": [
       "<table>\n",
       "<thead><tr><th scope=col>Group.1</th><th scope=col>x</th></tr></thead>\n",
       "<tbody>\n",
       "\t<tr><td>白云    </td><td>35170.78</td></tr>\n",
       "\t<tr><td>从化    </td><td>15607.04</td></tr>\n",
       "\t<tr><td>番禺    </td><td>29804.98</td></tr>\n",
       "\t<tr><td>海珠    </td><td>45234.31</td></tr>\n",
       "\t<tr><td>花都    </td><td>18668.73</td></tr>\n",
       "\t<tr><td>黄埔    </td><td>33193.50</td></tr>\n",
       "\t<tr><td>荔湾    </td><td>37338.47</td></tr>\n",
       "\t<tr><td>南沙    </td><td>19044.43</td></tr>\n",
       "\t<tr><td>天河    </td><td>54132.78</td></tr>\n",
       "\t<tr><td>越秀    </td><td>53918.58</td></tr>\n",
       "\t<tr><td>增城    </td><td>23508.87</td></tr>\n",
       "</tbody>\n",
       "</table>\n"
      ],
      "text/latex": [
       "\\begin{tabular}{r|ll}\n",
       " Group.1 & x\\\\\n",
       "\\hline\n",
       "\t 白云     & 35170.78\\\\\n",
       "\t 从化     & 15607.04\\\\\n",
       "\t 番禺     & 29804.98\\\\\n",
       "\t 海珠     & 45234.31\\\\\n",
       "\t 花都     & 18668.73\\\\\n",
       "\t 黄埔     & 33193.50\\\\\n",
       "\t 荔湾     & 37338.47\\\\\n",
       "\t 南沙     & 19044.43\\\\\n",
       "\t 天河     & 54132.78\\\\\n",
       "\t 越秀     & 53918.58\\\\\n",
       "\t 增城     & 23508.87\\\\\n",
       "\\end{tabular}\n"
      ],
      "text/markdown": [
       "\n",
       "Group.1 | x | \n",
       "|---|---|---|---|---|---|---|---|---|---|---|\n",
       "| 白云     | 35170.78 | \n",
       "| 从化     | 15607.04 | \n",
       "| 番禺     | 29804.98 | \n",
       "| 海珠     | 45234.31 | \n",
       "| 花都     | 18668.73 | \n",
       "| 黄埔     | 33193.50 | \n",
       "| 荔湾     | 37338.47 | \n",
       "| 南沙     | 19044.43 | \n",
       "| 天河     | 54132.78 | \n",
       "| 越秀     | 53918.58 | \n",
       "| 增城     | 23508.87 | \n",
       "\n",
       "\n"
      ],
      "text/plain": [
       "   Group.1 x       \n",
       "1  白云    35170.78\n",
       "2  从化    15607.04\n",
       "3  番禺    29804.98\n",
       "4  海珠    45234.31\n",
       "5  花都    18668.73\n",
       "6  黄埔    33193.50\n",
       "7  荔湾    37338.47\n",
       "8  南沙    19044.43\n",
       "9  天河    54132.78\n",
       "10 越秀    53918.58\n",
       "11 增城    23508.87"
      ]
     },
     "metadata": {},
     "output_type": "display_data"
    },
    {
     "data": {},
     "metadata": {},
     "output_type": "display_data"
    },
    {
     "data": {
      "image/png": "[encoded data removed]",
      "text/plain": [
       "plot without title"
      ]
     },
     "metadata": {},
     "output_type": "display_data"
    }
   ],
   "source": [
    "all = aggregate(data$unitPrice,by=list(data$region),mean)\n",
    "all\n",
    "ggplot(all, aes(Group.1,x))+\n",
    "  geom_point(colour = I(\"red\"))+\n",
    "  ggtitle('各区均价分布')+\n",
    "  geom_text(aes(label = x),position = position_stack(vjust = 1.08))+\n",
    "  theme(plot.title = element_text(hjust = 0.5))"
   ]
  },
  {
   "cell_type": "code",
   "execution_count": 137,
   "metadata": {},
   "outputs": [
    {
     "name": "stderr",
     "output_type": "stream",
     "text": [
      "Warning message:\n",
      "\"Removed 38 rows containing non-finite values (stat_boxplot).\""
     ]
    },
    {
     "data": {},
     "metadata": {},
     "output_type": "display_data"
    },
    {
     "data": {
      "image/png": "[encoded data removed]",
      "text/plain": [
       "plot without title"
      ]
     },
     "metadata": {},
     "output_type": "display_data"
    }
   ],
   "source": [
    "ggplot(data,aes(region,price))+\n",
    "  geom_boxplot(outlier.colour=\"darkgreen\",fill=\"grey80\")+ylim(0,2000)+\n",
    "  ggtitle('各区总价箱线图')+\n",
    "  theme(plot.title = element_text(hjust = 0.5),legend.position = \"bottom\")"
   ]
  },
  {
   "cell_type": "code",
   "execution_count": 138,
   "metadata": {},
   "outputs": [
    {
     "name": "stderr",
     "output_type": "stream",
     "text": [
      "Warning message:\n",
      "\"Removed 45 rows containing non-finite values (stat_boxplot).\""
     ]
    },
    {
     "data": {},
     "metadata": {},
     "output_type": "display_data"
    },
    {
     "data": {
      "image/png": "[encoded data removed]",
      "text/plain": [
       "plot without title"
      ]
     },
     "metadata": {},
     "output_type": "display_data"
    }
   ],
   "source": [
    "ggplot(data,aes(region,unitPrice))+\n",
    "  geom_boxplot(outlier.colour=\"darkgreen\",fill=\"grey80\")+ylim(0,100000)+\n",
    "  ggtitle('各区单价箱线图')+\n",
    "  theme(plot.title = element_text(hjust = 0.5),legend.position = \"bottom\")"
   ]
  },
  {
   "cell_type": "code",
   "execution_count": 139,
   "metadata": {},
   "outputs": [
    {
     "data": {
      "text/plain": [
       "\n",
       "   1    2    3    4    5 \n",
       "2174 2616  369 7120 5637 "
      ]
     },
     "metadata": {},
     "output_type": "display_data"
    }
   ],
   "source": [
    "set.seed(1234)\n",
    "standard = data.frame(scale(data[,c('area','price','unitPrice')]))\n",
    "clust = kmeans(x=standard, centers = 5, iter.max = 100)\n",
    "table(clust$cluster)"
   ]
  },
  {
   "cell_type": "code",
   "execution_count": 140,
   "metadata": {},
   "outputs": [
    {
     "data": {
      "text/plain": [
       "      \n",
       "          1    2    3    4    5\n",
       "  白云   89  494   29 1528  716\n",
       "  从化    0    5    0   19    0\n",
       "  番禺   13  870   35 1776  258\n",
       "  海珠  506  199   54  682 1545\n",
       "  花都    0  157    0  455    1\n",
       "  黄埔   14  138   13  562  286\n",
       "  荔湾   80  230   21  726  539\n",
       "  南沙    0    6    0   22    0\n",
       "  天河  972  166  161  370 1331\n",
       "  越秀  500   69   51  285  960\n",
       "  增城    0  282    5  695    1"
      ]
     },
     "metadata": {},
     "output_type": "display_data"
    }
   ],
   "source": [
    "table(data$region,clust$cluster)"
   ]
  },
  {
   "cell_type": "code",
   "execution_count": 141,
   "metadata": {},
   "outputs": [
    {
     "data": {
      "text/html": [
       "<table>\n",
       "<thead><tr><th scope=col>Group.1</th><th scope=col>x</th></tr></thead>\n",
       "<tbody>\n",
       "\t<tr><td>10室2厅  </td><td>101.68000</td></tr>\n",
       "\t<tr><td>10室3厅  </td><td>456.00000</td></tr>\n",
       "\t<tr><td>12室3厅  </td><td>140.45500</td></tr>\n",
       "\t<tr><td>1室0厅   </td><td> 38.51399</td></tr>\n",
       "\t<tr><td>1室1厅   </td><td> 46.54197</td></tr>\n",
       "\t<tr><td>1室2厅   </td><td> 61.01029</td></tr>\n",
       "\t<tr><td>2室0厅   </td><td> 49.73417</td></tr>\n",
       "\t<tr><td>2室1厅   </td><td> 67.89321</td></tr>\n",
       "\t<tr><td>2室2厅   </td><td> 78.68835</td></tr>\n",
       "\t<tr><td>2室3厅   </td><td> 92.79000</td></tr>\n",
       "\t<tr><td>3室0厅   </td><td> 63.65167</td></tr>\n",
       "\t<tr><td>3室1厅   </td><td> 91.14180</td></tr>\n",
       "\t<tr><td>3室2厅   </td><td>105.50128</td></tr>\n",
       "\t<tr><td>3室3厅   </td><td>122.61200</td></tr>\n",
       "\t<tr><td>3室4厅   </td><td>141.90000</td></tr>\n",
       "\t<tr><td>4室0厅   </td><td> 61.49500</td></tr>\n",
       "\t<tr><td>4室1厅   </td><td>127.67092</td></tr>\n",
       "\t<tr><td>4室2厅   </td><td>147.23614</td></tr>\n",
       "\t<tr><td>4室3厅   </td><td>175.05771</td></tr>\n",
       "\t<tr><td>4室4厅   </td><td>199.00000</td></tr>\n",
       "\t<tr><td>5室0厅   </td><td>106.00000</td></tr>\n",
       "\t<tr><td>5室1厅   </td><td>132.72789</td></tr>\n",
       "\t<tr><td>5室2厅   </td><td>185.03756</td></tr>\n",
       "\t<tr><td>5室3厅   </td><td>220.16083</td></tr>\n",
       "\t<tr><td>5室4厅   </td><td>156.02000</td></tr>\n",
       "\t<tr><td>6室0厅   </td><td>126.56000</td></tr>\n",
       "\t<tr><td>6室1厅   </td><td>189.14571</td></tr>\n",
       "\t<tr><td>6室2厅   </td><td>228.93846</td></tr>\n",
       "\t<tr><td>6室3厅   </td><td>190.73000</td></tr>\n",
       "\t<tr><td>6室4厅   </td><td>309.36000</td></tr>\n",
       "\t<tr><td>7室1厅   </td><td>202.50000</td></tr>\n",
       "\t<tr><td>7室2厅   </td><td>270.85000</td></tr>\n",
       "\t<tr><td>7室3厅   </td><td>281.01333</td></tr>\n",
       "\t<tr><td>8室2厅   </td><td>343.99000</td></tr>\n",
       "\t<tr><td>8室3厅   </td><td>357.93500</td></tr>\n",
       "\t<tr><td>8室4厅   </td><td>448.18000</td></tr>\n",
       "\t<tr><td>9室3厅   </td><td>252.03000</td></tr>\n",
       "\t<tr><td>车位     </td><td> 45.17000</td></tr>\n",
       "</tbody>\n",
       "</table>\n"
      ],
      "text/latex": [
       "\\begin{tabular}{r|ll}\n",
       " Group.1 & x\\\\\n",
       "\\hline\n",
       "\t 10室2厅   & 101.68000\\\\\n",
       "\t 10室3厅   & 456.00000\\\\\n",
       "\t 12室3厅   & 140.45500\\\\\n",
       "\t 1室0厅    &  38.51399\\\\\n",
       "\t 1室1厅    &  46.54197\\\\\n",
       "\t 1室2厅    &  61.01029\\\\\n",
       "\t 2室0厅    &  49.73417\\\\\n",
       "\t 2室1厅    &  67.89321\\\\\n",
       "\t 2室2厅    &  78.68835\\\\\n",
       "\t 2室3厅    &  92.79000\\\\\n",
       "\t 3室0厅    &  63.65167\\\\\n",
       "\t 3室1厅    &  91.14180\\\\\n",
       "\t 3室2厅    & 105.50128\\\\\n",
       "\t 3室3厅    & 122.61200\\\\\n",
       "\t 3室4厅    & 141.90000\\\\\n",
       "\t 4室0厅    &  61.49500\\\\\n",
       "\t 4室1厅    & 127.67092\\\\\n",
       "\t 4室2厅    & 147.23614\\\\\n",
       "\t 4室3厅    & 175.05771\\\\\n",
       "\t 4室4厅    & 199.00000\\\\\n",
       "\t 5室0厅    & 106.00000\\\\\n",
       "\t 5室1厅    & 132.72789\\\\\n",
       "\t 5室2厅    & 185.03756\\\\\n",
       "\t 5室3厅    & 220.16083\\\\\n",
       "\t 5室4厅    & 156.02000\\\\\n",
       "\t 6室0厅    & 126.56000\\\\\n",
       "\t 6室1厅    & 189.14571\\\\\n",
       "\t 6室2厅    & 228.93846\\\\\n",
       "\t 6室3厅    & 190.73000\\\\\n",
       "\t 6室4厅    & 309.36000\\\\\n",
       "\t 7室1厅    & 202.50000\\\\\n",
       "\t 7室2厅    & 270.85000\\\\\n",
       "\t 7室3厅    & 281.01333\\\\\n",
       "\t 8室2厅    & 343.99000\\\\\n",
       "\t 8室3厅    & 357.93500\\\\\n",
       "\t 8室4厅    & 448.18000\\\\\n",
       "\t 9室3厅    & 252.03000\\\\\n",
       "\t 车位      &  45.17000\\\\\n",
       "\\end{tabular}\n"
      ],
      "text/markdown": [
       "\n",
       "Group.1 | x | \n",
       "|---|---|---|---|---|---|---|---|---|---|---|---|---|---|---|---|---|---|---|---|---|---|---|---|---|---|---|---|---|---|---|---|---|---|---|---|---|---|\n",
       "| 10室2厅   | 101.68000 | \n",
       "| 10室3厅   | 456.00000 | \n",
       "| 12室3厅   | 140.45500 | \n",
       "| 1室0厅    |  38.51399 | \n",
       "| 1室1厅    |  46.54197 | \n",
       "| 1室2厅    |  61.01029 | \n",
       "| 2室0厅    |  49.73417 | \n",
       "| 2室1厅    |  67.89321 | \n",
       "| 2室2厅    |  78.68835 | \n",
       "| 2室3厅    |  92.79000 | \n",
       "| 3室0厅    |  63.65167 | \n",
       "| 3室1厅    |  91.14180 | \n",
       "| 3室2厅    | 105.50128 | \n",
       "| 3室3厅    | 122.61200 | \n",
       "| 3室4厅    | 141.90000 | \n",
       "| 4室0厅    |  61.49500 | \n",
       "| 4室1厅    | 127.67092 | \n",
       "| 4室2厅    | 147.23614 | \n",
       "| 4室3厅    | 175.05771 | \n",
       "| 4室4厅    | 199.00000 | \n",
       "| 5室0厅    | 106.00000 | \n",
       "| 5室1厅    | 132.72789 | \n",
       "| 5室2厅    | 185.03756 | \n",
       "| 5室3厅    | 220.16083 | \n",
       "| 5室4厅    | 156.02000 | \n",
       "| 6室0厅    | 126.56000 | \n",
       "| 6室1厅    | 189.14571 | \n",
       "| 6室2厅    | 228.93846 | \n",
       "| 6室3厅    | 190.73000 | \n",
       "| 6室4厅    | 309.36000 | \n",
       "| 7室1厅    | 202.50000 | \n",
       "| 7室2厅    | 270.85000 | \n",
       "| 7室3厅    | 281.01333 | \n",
       "| 8室2厅    | 343.99000 | \n",
       "| 8室3厅    | 357.93500 | \n",
       "| 8室4厅    | 448.18000 | \n",
       "| 9室3厅    | 252.03000 | \n",
       "| 车位      |  45.17000 | \n",
       "\n",
       "\n"
      ],
      "text/plain": [
       "   Group.1 x        \n",
       "1  10室2厅 101.68000\n",
       "2  10室3厅 456.00000\n",
       "3  12室3厅 140.45500\n",
       "4  1室0厅   38.51399\n",
       "5  1室1厅   46.54197\n",
       "6  1室2厅   61.01029\n",
       "7  2室0厅   49.73417\n",
       "8  2室1厅   67.89321\n",
       "9  2室2厅   78.68835\n",
       "10 2室3厅   92.79000\n",
       "11 3室0厅   63.65167\n",
       "12 3室1厅   91.14180\n",
       "13 3室2厅  105.50128\n",
       "14 3室3厅  122.61200\n",
       "15 3室4厅  141.90000\n",
       "16 4室0厅   61.49500\n",
       "17 4室1厅  127.67092\n",
       "18 4室2厅  147.23614\n",
       "19 4室3厅  175.05771\n",
       "20 4室4厅  199.00000\n",
       "21 5室0厅  106.00000\n",
       "22 5室1厅  132.72789\n",
       "23 5室2厅  185.03756\n",
       "24 5室3厅  220.16083\n",
       "25 5室4厅  156.02000\n",
       "26 6室0厅  126.56000\n",
       "27 6室1厅  189.14571\n",
       "28 6室2厅  228.93846\n",
       "29 6室3厅  190.73000\n",
       "30 6室4厅  309.36000\n",
       "31 7室1厅  202.50000\n",
       "32 7室2厅  270.85000\n",
       "33 7室3厅  281.01333\n",
       "34 8室2厅  343.99000\n",
       "35 8室3厅  357.93500\n",
       "36 8室4厅  448.18000\n",
       "37 9室3厅  252.03000\n",
       "38 车位     45.17000"
      ]
     },
     "metadata": {},
     "output_type": "display_data"
    }
   ],
   "source": [
    "aggregate(data$area,list(data$roomType),mean)"
   ]
  },
  {
   "cell_type": "code",
   "execution_count": 142,
   "metadata": {},
   "outputs": [
    {
     "data": {
      "text/html": [
       "<table>\n",
       "<thead><tr><th scope=col>Group.1</th><th scope=col>area</th><th scope=col>price</th><th scope=col>unitPrice</th></tr></thead>\n",
       "<tbody>\n",
       "\t<tr><td>1        </td><td>105.30535</td><td> 670.6460</td><td>65055.70 </td></tr>\n",
       "\t<tr><td>2        </td><td>140.69191</td><td> 452.6952</td><td>32697.15 </td></tr>\n",
       "\t<tr><td>3        </td><td>222.88686</td><td>1439.7851</td><td>68255.00 </td></tr>\n",
       "\t<tr><td>4        </td><td> 76.95374</td><td> 212.4081</td><td>27972.92 </td></tr>\n",
       "\t<tr><td>5        </td><td> 74.88711</td><td> 344.9284</td><td>46800.82 </td></tr>\n",
       "</tbody>\n",
       "</table>\n"
      ],
      "text/latex": [
       "\\begin{tabular}{r|llll}\n",
       " Group.1 & area & price & unitPrice\\\\\n",
       "\\hline\n",
       "\t 1         & 105.30535 &  670.6460 & 65055.70 \\\\\n",
       "\t 2         & 140.69191 &  452.6952 & 32697.15 \\\\\n",
       "\t 3         & 222.88686 & 1439.7851 & 68255.00 \\\\\n",
       "\t 4         &  76.95374 &  212.4081 & 27972.92 \\\\\n",
       "\t 5         &  74.88711 &  344.9284 & 46800.82 \\\\\n",
       "\\end{tabular}\n"
      ],
      "text/markdown": [
       "\n",
       "Group.1 | area | price | unitPrice | \n",
       "|---|---|---|---|---|\n",
       "| 1         | 105.30535 |  670.6460 | 65055.70  | \n",
       "| 2         | 140.69191 |  452.6952 | 32697.15  | \n",
       "| 3         | 222.88686 | 1439.7851 | 68255.00  | \n",
       "| 4         |  76.95374 |  212.4081 | 27972.92  | \n",
       "| 5         |  74.88711 |  344.9284 | 46800.82  | \n",
       "\n",
       "\n"
      ],
      "text/plain": [
       "  Group.1 area      price     unitPrice\n",
       "1 1       105.30535  670.6460 65055.70 \n",
       "2 2       140.69191  452.6952 32697.15 \n",
       "3 3       222.88686 1439.7851 68255.00 \n",
       "4 4        76.95374  212.4081 27972.92 \n",
       "5 5        74.88711  344.9284 46800.82 "
      ]
     },
     "metadata": {},
     "output_type": "display_data"
    }
   ],
   "source": [
    "aggregate(data[,c(3,8,9)],list(clust$cluster),mean)"
   ]
  },
  {
   "cell_type": "code",
   "execution_count": 143,
   "metadata": {},
   "outputs": [],
   "source": [
    "tot.wssplot <- function(data, nc, seed=1234){\n",
    "  #假设分为一组时的总的离差平方和              \n",
    "  tot.wss <- (nrow(data)-1)*sum(apply(data,2,var)) \n",
    "  for (i in 2:nc){\n",
    "    #必须指定随机种子数\n",
    "    set.seed(seed) \n",
    "    tot.wss[i] <- kmeans(data, centers=i, iter.max = 100)$tot.withinss\n",
    "  }\n",
    "  plot(1:nc, tot.wss, type=\"b\", xlab=\"Number of Clusters\",\n",
    "       ylab=\"Within groups sum of squares\",col = 'blue',\n",
    "       lwd = 2, main = 'Choose best Clusters')\n",
    "}"
   ]
  },
  {
   "cell_type": "code",
   "execution_count": 144,
   "metadata": {},
   "outputs": [
    {
     "data": {
      "image/png": "[encoded data removed]",
      "text/plain": [
       "Plot with title \"Choose best Clusters\""
      ]
     },
     "metadata": {},
     "output_type": "display_data"
    }
   ],
   "source": [
    "standard = data.frame(scale(data[,c('area','price','unitPrice')]))\n",
    "myplot <- tot.wssplot(standard, nc = 15)"
   ]
  },
  {
   "cell_type": "code",
   "execution_count": 145,
   "metadata": {},
   "outputs": [],
   "source": [
    "haizhu = data[6510:9509,]\n",
    "liwan = data[4890:6509,]\n",
    "yuexiu = data[3000:4889,]"
   ]
  },
  {
   "cell_type": "code",
   "execution_count": 146,
   "metadata": {},
   "outputs": [
    {
     "data": {},
     "metadata": {},
     "output_type": "display_data"
    },
    {
     "data": {
      "image/png": "[encoded data removed]",
      "text/plain": [
       "plot without title"
      ]
     },
     "metadata": {},
     "output_type": "display_data"
    }
   ],
   "source": [
    "ggplot(haizhu, aes(year))+\n",
    "  geom_bar(stat = 'count', position = 'dodge', width = 0.8, fill = '#FF9999')+\n",
    "  ggtitle('海珠区楼龄分布')+\n",
    "  theme(plot.title = element_text(hjust = 0.5))"
   ]
  },
  {
   "cell_type": "code",
   "execution_count": 147,
   "metadata": {},
   "outputs": [
    {
     "data": {},
     "metadata": {},
     "output_type": "display_data"
    },
    {
     "data": {
      "image/png": "[encoded data removed]",
      "text/plain": [
       "plot without title"
      ]
     },
     "metadata": {},
     "output_type": "display_data"
    }
   ],
   "source": [
    "ggplot(liwan, aes(year))+\n",
    "  geom_bar(stat = 'count', position = 'dodge', width = 0.8, fill = '#FF9999')+\n",
    "  ggtitle('荔湾区楼龄分布')+\n",
    "  theme(plot.title = element_text(hjust = 0.5))\n"
   ]
  },
  {
   "cell_type": "code",
   "execution_count": 148,
   "metadata": {},
   "outputs": [
    {
     "data": {},
     "metadata": {},
     "output_type": "display_data"
    },
    {
     "data": {
      "image/png": "[encoded data removed]",
      "text/plain": [
       "plot without title"
      ]
     },
     "metadata": {},
     "output_type": "display_data"
    }
   ],
   "source": [
    "ggplot(yuexiu, aes(year))+\n",
    "  geom_bar(stat = 'count', position = 'dodge', width = 0.8, fill = '#FF9999')+\n",
    "  ggtitle('越秀区楼龄分布')+\n",
    "  theme(plot.title = element_text(hjust = 0.5))\n"
   ]
  },
  {
   "cell_type": "code",
   "execution_count": 149,
   "metadata": {},
   "outputs": [
    {
     "data": {
      "text/plain": [
       "\n",
       "1970 1976 1980 1981 1982 1983 1984 1985 1986 1987 1988 1989 1990 1991 1992 1993 \n",
       "   1   16   35    1    3    1    2   26   36   12   43   28  238   38   82  253 \n",
       "1994 1995 1996 1997 1998 1999 2000 2001 2002 2003 2004 2005 2006 2007 2008 2009 \n",
       " 151  707  385  647  908 1161 1581  566 1102  625 1015  718  564  686  739  459 \n",
       "2010 2011 2012 2013 2014 2015 2016 2017 其他 \n",
       " 482  408  396  368  190  192   19    7 3025 "
      ]
     },
     "metadata": {},
     "output_type": "display_data"
    }
   ],
   "source": [
    "table(data$year)"
   ]
  },
  {
   "cell_type": "code",
   "execution_count": 151,
   "metadata": {},
   "outputs": [
    {
     "data": {
      "text/plain": [
       "\n",
       "从化 南沙 花都 增城 黄埔 荔湾 越秀 白云 番禺 海珠 天河 \n",
       "  24   28  613  983 1013 1596 1865 2856 2952 2986 3000 "
      ]
     },
     "metadata": {},
     "output_type": "display_data"
    }
   ],
   "source": [
    "sort(table(data$region))"
   ]
  },
  {
   "cell_type": "code",
   "execution_count": null,
   "metadata": {},
   "outputs": [],
   "source": []
  }
 ],
 "metadata": {
  "kernelspec": {
   "display_name": "R",
   "language": "R",
   "name": "ir"
  },
  "language_info": {
   "codemirror_mode": "r",
   "file_extension": ".r",
   "mimetype": "text/x-r-source",
   "name": "R",
   "pygments_lexer": "r",
   "version": "3.4.3"
  }
 },
 "nbformat": 4,
 "nbformat_minor": 2
}
